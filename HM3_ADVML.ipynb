{
  "cells": [
    {
      "cell_type": "markdown",
      "source": [
        "# Advanced ML - Exercise 3 Notebook\n",
        "By:<br>\n",
        "Joel Liurner, ID: 346243579<br>\n",
        "Gil Zeevi, ID: 203909320\n"
      ],
      "metadata": {
        "id": "hah0JQt6wUfl"
      },
      "id": "hah0JQt6wUfl"
    },
    {
      "cell_type": "code",
      "execution_count": null,
      "metadata": {
        "id": "9f532551-4108-4a87-b557-d3909874b3bf"
      },
      "outputs": [],
      "source": [
        "import pandas as pd\n",
        "import numpy as np\n",
        "import shutil\n",
        "import os\n",
        "import json\n",
        "import pickle\n",
        "from tqdm import tqdm\n",
        "tqdm.pandas()\n",
        "import gzip\n",
        "from matplotlib import pyplot as plt\n",
        "import seaborn as sns\n",
        "import warnings\n",
        "# !pip install --upgrade matplotlib"
      ],
      "id": "9f532551-4108-4a87-b557-d3909874b3bf"
    },
    {
      "cell_type": "markdown",
      "metadata": {
        "id": "mKwB6pp6f8yM"
      },
      "source": [
        "# Data preprocessing"
      ],
      "id": "mKwB6pp6f8yM"
    },
    {
      "cell_type": "code",
      "execution_count": null,
      "metadata": {
        "id": "3cd983ec-a7d0-40ef-9e7f-d869fda6b85c"
      },
      "outputs": [],
      "source": [
        "! cd /content/drive/MyDrive/IDCJoel/kaggle_dataset\n",
        "! mkdir ~/.kaggle\n",
        "! cp /content/drive/MyDrive/IDCJoel/kaggle_dataset/kaggle.json ~/.kaggle/\n",
        "! chmod 600 ~/.kaggle/kaggle.json"
      ],
      "id": "3cd983ec-a7d0-40ef-9e7f-d869fda6b85c"
    },
    {
      "cell_type": "code",
      "execution_count": null,
      "metadata": {
        "id": "bfc3691b-802e-48a9-a11c-824c226c79f2"
      },
      "outputs": [],
      "source": [
        "! kaggle datasets download -d allen-institute-for-ai/CORD-19-research-challenge"
      ],
      "id": "bfc3691b-802e-48a9-a11c-824c226c79f2"
    },
    {
      "cell_type": "code",
      "execution_count": null,
      "metadata": {
        "id": "c1697c57-93e1-477f-977d-8e14846fc000"
      },
      "outputs": [],
      "source": [
        "! unzip /content/drive/MyDrive/IDCJoel/kaggle_dataset/CORD-19-research-challenge.zip -d /content/drive/MyDrive/IDCJoel/kaggle_dataset"
      ],
      "id": "c1697c57-93e1-477f-977d-8e14846fc000"
    },
    {
      "cell_type": "code",
      "execution_count": null,
      "metadata": {
        "id": "c6d3920f-7ef7-4c57-b91e-db13dd759b91"
      },
      "outputs": [],
      "source": [
        "base_path = \"/Users/joelliurner/Desktop/cord_dataset\"\n",
        "extracted_path = \"/Users/joelliurner/Desktop/cord_dataset/extracted\"\n",
        "json_schema_path = base_path+\"/json_schema.txt\"\n",
        "metadata_path = base_path+\"/metadata.csv\""
      ],
      "id": "c6d3920f-7ef7-4c57-b91e-db13dd759b91"
    },
    {
      "cell_type": "code",
      "execution_count": null,
      "metadata": {
        "id": "b79300ba-c75b-41ab-a2ce-ad09045968a7",
        "outputId": "7f072d54-807c-403c-fdda-f13bf25a1ca3"
      },
      "outputs": [
        {
          "name": "stdout",
          "output_type": "stream",
          "text": [
            "# JSON schema of full text documents\n",
            "\n",
            "\n",
            "{\n",
            "    \"paper_id\": <str>,                      # 40-character sha1 of the PDF\n",
            "    \"metadata\": {\n",
            "        \"title\": <str>,\n",
            "        \"authors\": [                        # list of author dicts, in order\n",
            "            {\n",
            "                \"first\": <str>,\n",
            "                \"middle\": <list of str>,\n",
            "                \"last\": <str>,\n",
            "                \"suffix\": <str>,\n",
            "                \"affiliation\": <dict>,\n",
            "                \"email\": <str>\n",
            "            },\n",
            "            ...\n",
            "        ],\n",
            "        \"abstract\": [                       # list of paragraphs in the abstract\n",
            "            {\n",
            "                \"text\": <str>,\n",
            "                \"cite_spans\": [             # list of character indices of inline citations\n",
            "                                            # e.g. citation \"[7]\" occurs at positions 151-154 in \"text\"\n",
            "                                            #      linked to bibliography entry BIBREF3\n",
            "                    {\n",
            "                        \"start\": 151,\n",
            "                        \"end\": 154,\n",
            "                        \"text\": \"[7]\",\n",
            "                        \"ref_id\": \"BIBREF3\"\n",
            "                    },\n",
            "                    ...\n",
            "                ],\n",
            "                \"ref_spans\": <list of dicts similar to cite_spans>,     # e.g. inline reference to \"Table 1\"\n",
            "                \"section\": \"Abstract\"\n",
            "            },\n",
            "            ...\n",
            "        ],\n",
            "        \"body_text\": [                      # list of paragraphs in full body\n",
            "                                            # paragraph dicts look the same as above\n",
            "            {\n",
            "                \"text\": <str>,\n",
            "                \"cite_spans\": [],\n",
            "                \"ref_spans\": [],\n",
            "                \"eq_spans\": [],\n",
            "                \"section\": \"Introduction\"\n",
            "            },\n",
            "            ...\n",
            "            {\n",
            "                ...,\n",
            "                \"section\": \"Conclusion\"\n",
            "            }\n",
            "        ],\n",
            "        \"bib_entries\": {\n",
            "            \"BIBREF0\": {\n",
            "                \"ref_id\": <str>,\n",
            "                \"title\": <str>,\n",
            "                \"authors\": <list of dict>       # same structure as earlier,\n",
            "                                                # but without `affiliation` or `email`\n",
            "                \"year\": <int>,\n",
            "                \"venue\": <str>,\n",
            "                \"volume\": <str>,\n",
            "                \"issn\": <str>,\n",
            "                \"pages\": <str>,\n",
            "                \"other_ids\": {\n",
            "                    \"DOI\": [\n",
            "                        <str>\n",
            "                    ]\n",
            "                }\n",
            "            },\n",
            "            \"BIBREF1\": {},\n",
            "            ...\n",
            "            \"BIBREF25\": {}\n",
            "        },\n",
            "        \"ref_entries\":\n",
            "            \"FIGREF0\": {\n",
            "                \"text\": <str>,                  # figure caption text\n",
            "                \"type\": \"figure\"\n",
            "            },\n",
            "            ...\n",
            "            \"TABREF13\": {\n",
            "                \"text\": <str>,                  # table caption text\n",
            "                \"type\": \"table\"\n",
            "            }\n",
            "        },\n",
            "        \"back_matter\": <list of dict>           # same structure as body_text\n",
            "    }\n",
            "}\n"
          ]
        }
      ],
      "source": [
        "!cat {json_schema_path}"
      ],
      "id": "b79300ba-c75b-41ab-a2ce-ad09045968a7"
    },
    {
      "cell_type": "code",
      "execution_count": null,
      "metadata": {
        "id": "ff8ad2ae-bb2c-4980-a5f2-a2d4869f79ff",
        "outputId": "f6e5cc0d-5ba1-4bb9-f366-dc6ff053eb7b"
      },
      "outputs": [
        {
          "name": "stderr",
          "output_type": "stream",
          "text": [
            "/opt/miniconda3/lib/python3.7/site-packages/IPython/core/interactiveshell.py:3524: DtypeWarning: Columns (1,4,5,6,13,14,15,16) have mixed types.Specify dtype option on import or set low_memory=False.\n",
            "  exec(code_obj, self.user_global_ns, self.user_ns)\n"
          ]
        }
      ],
      "source": [
        "df_metadata = pd.read_csv(metadata_path)"
      ],
      "id": "ff8ad2ae-bb2c-4980-a5f2-a2d4869f79ff"
    },
    {
      "cell_type": "code",
      "execution_count": null,
      "metadata": {
        "id": "0507cd23-b6a4-4876-bff7-f7bd5ad514ca",
        "outputId": "cd65199e-3eb8-4a1b-cbfd-cb2d59ead651"
      },
      "outputs": [
        {
          "data": {
            "text/html": [
              "<div>\n",
              "<style scoped>\n",
              "    .dataframe tbody tr th:only-of-type {\n",
              "        vertical-align: middle;\n",
              "    }\n",
              "\n",
              "    .dataframe tbody tr th {\n",
              "        vertical-align: top;\n",
              "    }\n",
              "\n",
              "    .dataframe thead th {\n",
              "        text-align: right;\n",
              "    }\n",
              "</style>\n",
              "<table border=\"1\" class=\"dataframe\">\n",
              "  <thead>\n",
              "    <tr style=\"text-align: right;\">\n",
              "      <th></th>\n",
              "      <th>cord_uid</th>\n",
              "      <th>sha</th>\n",
              "      <th>source_x</th>\n",
              "      <th>title</th>\n",
              "      <th>doi</th>\n",
              "      <th>pmcid</th>\n",
              "      <th>pubmed_id</th>\n",
              "      <th>license</th>\n",
              "      <th>abstract</th>\n",
              "      <th>publish_time</th>\n",
              "      <th>authors</th>\n",
              "      <th>journal</th>\n",
              "      <th>mag_id</th>\n",
              "      <th>who_covidence_id</th>\n",
              "      <th>arxiv_id</th>\n",
              "      <th>pdf_json_files</th>\n",
              "      <th>pmc_json_files</th>\n",
              "      <th>url</th>\n",
              "      <th>s2_id</th>\n",
              "    </tr>\n",
              "  </thead>\n",
              "  <tbody>\n",
              "    <tr>\n",
              "      <th>0</th>\n",
              "      <td>ug7v899j</td>\n",
              "      <td>d1aafb70c066a2068b02786f8929fd9c900897fb</td>\n",
              "      <td>PMC</td>\n",
              "      <td>Clinical features of culture-proven Mycoplasma...</td>\n",
              "      <td>10.1186/1471-2334-1-6</td>\n",
              "      <td>PMC35282</td>\n",
              "      <td>11472636</td>\n",
              "      <td>no-cc</td>\n",
              "      <td>OBJECTIVE: This retrospective chart review des...</td>\n",
              "      <td>2001-07-04</td>\n",
              "      <td>Madani, Tariq A; Al-Ghamdi, Aisha A</td>\n",
              "      <td>BMC Infect Dis</td>\n",
              "      <td>NaN</td>\n",
              "      <td>NaN</td>\n",
              "      <td>NaN</td>\n",
              "      <td>document_parses/pdf_json/d1aafb70c066a2068b027...</td>\n",
              "      <td>document_parses/pmc_json/PMC35282.xml.json</td>\n",
              "      <td>https://www.ncbi.nlm.nih.gov/pmc/articles/PMC3...</td>\n",
              "      <td>NaN</td>\n",
              "    </tr>\n",
              "    <tr>\n",
              "      <th>1</th>\n",
              "      <td>02tnwd4m</td>\n",
              "      <td>6b0567729c2143a66d737eb0a2f63f2dce2e5a7d</td>\n",
              "      <td>PMC</td>\n",
              "      <td>Nitric oxide: a pro-inflammatory mediator in l...</td>\n",
              "      <td>10.1186/rr14</td>\n",
              "      <td>PMC59543</td>\n",
              "      <td>11667967</td>\n",
              "      <td>no-cc</td>\n",
              "      <td>Inflammatory diseases of the respiratory tract...</td>\n",
              "      <td>2000-08-15</td>\n",
              "      <td>Vliet, Albert van der; Eiserich, Jason P; Cros...</td>\n",
              "      <td>Respir Res</td>\n",
              "      <td>NaN</td>\n",
              "      <td>NaN</td>\n",
              "      <td>NaN</td>\n",
              "      <td>document_parses/pdf_json/6b0567729c2143a66d737...</td>\n",
              "      <td>document_parses/pmc_json/PMC59543.xml.json</td>\n",
              "      <td>https://www.ncbi.nlm.nih.gov/pmc/articles/PMC5...</td>\n",
              "      <td>NaN</td>\n",
              "    </tr>\n",
              "    <tr>\n",
              "      <th>2</th>\n",
              "      <td>ejv2xln0</td>\n",
              "      <td>06ced00a5fc04215949aa72528f2eeaae1d58927</td>\n",
              "      <td>PMC</td>\n",
              "      <td>Surfactant protein-D and pulmonary host defense</td>\n",
              "      <td>10.1186/rr19</td>\n",
              "      <td>PMC59549</td>\n",
              "      <td>11667972</td>\n",
              "      <td>no-cc</td>\n",
              "      <td>Surfactant protein-D (SP-D) participates in th...</td>\n",
              "      <td>2000-08-25</td>\n",
              "      <td>Crouch, Erika C</td>\n",
              "      <td>Respir Res</td>\n",
              "      <td>NaN</td>\n",
              "      <td>NaN</td>\n",
              "      <td>NaN</td>\n",
              "      <td>document_parses/pdf_json/06ced00a5fc04215949aa...</td>\n",
              "      <td>document_parses/pmc_json/PMC59549.xml.json</td>\n",
              "      <td>https://www.ncbi.nlm.nih.gov/pmc/articles/PMC5...</td>\n",
              "      <td>NaN</td>\n",
              "    </tr>\n",
              "    <tr>\n",
              "      <th>3</th>\n",
              "      <td>2b73a28n</td>\n",
              "      <td>348055649b6b8cf2b9a376498df9bf41f7123605</td>\n",
              "      <td>PMC</td>\n",
              "      <td>Role of endothelin-1 in lung disease</td>\n",
              "      <td>10.1186/rr44</td>\n",
              "      <td>PMC59574</td>\n",
              "      <td>11686871</td>\n",
              "      <td>no-cc</td>\n",
              "      <td>Endothelin-1 (ET-1) is a 21 amino acid peptide...</td>\n",
              "      <td>2001-02-22</td>\n",
              "      <td>Fagan, Karen A; McMurtry, Ivan F; Rodman, David M</td>\n",
              "      <td>Respir Res</td>\n",
              "      <td>NaN</td>\n",
              "      <td>NaN</td>\n",
              "      <td>NaN</td>\n",
              "      <td>document_parses/pdf_json/348055649b6b8cf2b9a37...</td>\n",
              "      <td>document_parses/pmc_json/PMC59574.xml.json</td>\n",
              "      <td>https://www.ncbi.nlm.nih.gov/pmc/articles/PMC5...</td>\n",
              "      <td>NaN</td>\n",
              "    </tr>\n",
              "    <tr>\n",
              "      <th>4</th>\n",
              "      <td>9785vg6d</td>\n",
              "      <td>5f48792a5fa08bed9f56016f4981ae2ca6031b32</td>\n",
              "      <td>PMC</td>\n",
              "      <td>Gene expression in epithelial cells in respons...</td>\n",
              "      <td>10.1186/rr61</td>\n",
              "      <td>PMC59580</td>\n",
              "      <td>11686888</td>\n",
              "      <td>no-cc</td>\n",
              "      <td>Respiratory syncytial virus (RSV) and pneumoni...</td>\n",
              "      <td>2001-05-11</td>\n",
              "      <td>Domachowske, Joseph B; Bonville, Cynthia A; Ro...</td>\n",
              "      <td>Respir Res</td>\n",
              "      <td>NaN</td>\n",
              "      <td>NaN</td>\n",
              "      <td>NaN</td>\n",
              "      <td>document_parses/pdf_json/5f48792a5fa08bed9f560...</td>\n",
              "      <td>document_parses/pmc_json/PMC59580.xml.json</td>\n",
              "      <td>https://www.ncbi.nlm.nih.gov/pmc/articles/PMC5...</td>\n",
              "      <td>NaN</td>\n",
              "    </tr>\n",
              "  </tbody>\n",
              "</table>\n",
              "</div>"
            ],
            "text/plain": [
              "   cord_uid                                       sha source_x  \\\n",
              "0  ug7v899j  d1aafb70c066a2068b02786f8929fd9c900897fb      PMC   \n",
              "1  02tnwd4m  6b0567729c2143a66d737eb0a2f63f2dce2e5a7d      PMC   \n",
              "2  ejv2xln0  06ced00a5fc04215949aa72528f2eeaae1d58927      PMC   \n",
              "3  2b73a28n  348055649b6b8cf2b9a376498df9bf41f7123605      PMC   \n",
              "4  9785vg6d  5f48792a5fa08bed9f56016f4981ae2ca6031b32      PMC   \n",
              "\n",
              "                                               title                    doi  \\\n",
              "0  Clinical features of culture-proven Mycoplasma...  10.1186/1471-2334-1-6   \n",
              "1  Nitric oxide: a pro-inflammatory mediator in l...           10.1186/rr14   \n",
              "2    Surfactant protein-D and pulmonary host defense           10.1186/rr19   \n",
              "3               Role of endothelin-1 in lung disease           10.1186/rr44   \n",
              "4  Gene expression in epithelial cells in respons...           10.1186/rr61   \n",
              "\n",
              "      pmcid pubmed_id license  \\\n",
              "0  PMC35282  11472636   no-cc   \n",
              "1  PMC59543  11667967   no-cc   \n",
              "2  PMC59549  11667972   no-cc   \n",
              "3  PMC59574  11686871   no-cc   \n",
              "4  PMC59580  11686888   no-cc   \n",
              "\n",
              "                                            abstract publish_time  \\\n",
              "0  OBJECTIVE: This retrospective chart review des...   2001-07-04   \n",
              "1  Inflammatory diseases of the respiratory tract...   2000-08-15   \n",
              "2  Surfactant protein-D (SP-D) participates in th...   2000-08-25   \n",
              "3  Endothelin-1 (ET-1) is a 21 amino acid peptide...   2001-02-22   \n",
              "4  Respiratory syncytial virus (RSV) and pneumoni...   2001-05-11   \n",
              "\n",
              "                                             authors         journal  mag_id  \\\n",
              "0                Madani, Tariq A; Al-Ghamdi, Aisha A  BMC Infect Dis     NaN   \n",
              "1  Vliet, Albert van der; Eiserich, Jason P; Cros...      Respir Res     NaN   \n",
              "2                                    Crouch, Erika C      Respir Res     NaN   \n",
              "3  Fagan, Karen A; McMurtry, Ivan F; Rodman, David M      Respir Res     NaN   \n",
              "4  Domachowske, Joseph B; Bonville, Cynthia A; Ro...      Respir Res     NaN   \n",
              "\n",
              "  who_covidence_id arxiv_id  \\\n",
              "0              NaN      NaN   \n",
              "1              NaN      NaN   \n",
              "2              NaN      NaN   \n",
              "3              NaN      NaN   \n",
              "4              NaN      NaN   \n",
              "\n",
              "                                      pdf_json_files  \\\n",
              "0  document_parses/pdf_json/d1aafb70c066a2068b027...   \n",
              "1  document_parses/pdf_json/6b0567729c2143a66d737...   \n",
              "2  document_parses/pdf_json/06ced00a5fc04215949aa...   \n",
              "3  document_parses/pdf_json/348055649b6b8cf2b9a37...   \n",
              "4  document_parses/pdf_json/5f48792a5fa08bed9f560...   \n",
              "\n",
              "                               pmc_json_files  \\\n",
              "0  document_parses/pmc_json/PMC35282.xml.json   \n",
              "1  document_parses/pmc_json/PMC59543.xml.json   \n",
              "2  document_parses/pmc_json/PMC59549.xml.json   \n",
              "3  document_parses/pmc_json/PMC59574.xml.json   \n",
              "4  document_parses/pmc_json/PMC59580.xml.json   \n",
              "\n",
              "                                                 url  s2_id  \n",
              "0  https://www.ncbi.nlm.nih.gov/pmc/articles/PMC3...    NaN  \n",
              "1  https://www.ncbi.nlm.nih.gov/pmc/articles/PMC5...    NaN  \n",
              "2  https://www.ncbi.nlm.nih.gov/pmc/articles/PMC5...    NaN  \n",
              "3  https://www.ncbi.nlm.nih.gov/pmc/articles/PMC5...    NaN  \n",
              "4  https://www.ncbi.nlm.nih.gov/pmc/articles/PMC5...    NaN  "
            ]
          },
          "execution_count": 81,
          "metadata": {},
          "output_type": "execute_result"
        }
      ],
      "source": [
        "df_metadata.head()"
      ],
      "id": "0507cd23-b6a4-4876-bff7-f7bd5ad514ca"
    },
    {
      "cell_type": "code",
      "execution_count": null,
      "metadata": {
        "id": "b9826c44-87f7-43f2-b531-52321ad5c11c"
      },
      "outputs": [],
      "source": [
        "df_metadata.sort_values('publish_time', ascending=False, inplace=True)"
      ],
      "id": "b9826c44-87f7-43f2-b531-52321ad5c11c"
    },
    {
      "cell_type": "code",
      "execution_count": null,
      "metadata": {
        "id": "aaf0f1f6-e203-4eed-8ba2-3c76d9cdbf53"
      },
      "outputs": [],
      "source": [
        "#There is one article of 2024, and several in december 2022, ignore them\n",
        "df_metadata = df_metadata[df_metadata['publish_time'] < '2022-03-26']"
      ],
      "id": "aaf0f1f6-e203-4eed-8ba2-3c76d9cdbf53"
    },
    {
      "cell_type": "code",
      "execution_count": null,
      "metadata": {
        "id": "a6c934fd-60ec-464f-8a71-39159d3ab3ca"
      },
      "outputs": [],
      "source": [
        "# Drop inconsistent samples\n",
        "df_metadata.dropna(subset=['sha'], inplace=True)\n",
        "df_metadata.dropna(subset=['abstract'], inplace=True)\n",
        "df_metadata.dropna(subset=[\"pdf_json_files\"], inplace=True)\n",
        "df_metadata.dropna(subset=[\"pmc_json_files\"], inplace=True)\n",
        "df_metadata.reset_index(inplace = True)"
      ],
      "id": "a6c934fd-60ec-464f-8a71-39159d3ab3ca"
    },
    {
      "cell_type": "code",
      "execution_count": null,
      "metadata": {
        "id": "04759a83-3594-4d70-8946-d048fae4a202"
      },
      "outputs": [],
      "source": [
        "# Keep useful articles, with text and abstract\n",
        "# Extract 20k recent samples\n",
        "df_sample20 = df_metadata[0:20000].copy()\n",
        "#df_sample20 = df_metadata[0:20].copy()\n",
        "df_sample20['text'] = None\n",
        "for i in range(len(df_sample20)):\n",
        "#for i in range(5):\n",
        "    file_path = df_sample20.loc[i]['pmc_json_files']\n",
        "    new_file_path = os.path.join(extracted_path,file_path)\n",
        "    shutil.copyfile( os.path.join(base_path,file_path), new_file_path )\n",
        "    with open(new_file_path) as file:\n",
        "        content = json.load(file)\n",
        "        text = []\n",
        "        for entry in content['body_text']:\n",
        "            text.append(entry['text'])\n",
        "  \n",
        "        text = '\\n'.join(text)\n",
        "    df_sample20.at[i, 'text']= text"
      ],
      "id": "04759a83-3594-4d70-8946-d048fae4a202"
    },
    {
      "cell_type": "code",
      "execution_count": null,
      "metadata": {
        "id": "16a4003c-f397-40cd-8ade-9dbf5c9eb174",
        "outputId": "becccb61-d7d4-4f4b-f5e6-759d3dfc0feb"
      },
      "outputs": [
        {
          "data": {
            "text/html": [
              "<div>\n",
              "<style scoped>\n",
              "    .dataframe tbody tr th:only-of-type {\n",
              "        vertical-align: middle;\n",
              "    }\n",
              "\n",
              "    .dataframe tbody tr th {\n",
              "        vertical-align: top;\n",
              "    }\n",
              "\n",
              "    .dataframe thead th {\n",
              "        text-align: right;\n",
              "    }\n",
              "</style>\n",
              "<table border=\"1\" class=\"dataframe\">\n",
              "  <thead>\n",
              "    <tr style=\"text-align: right;\">\n",
              "      <th></th>\n",
              "      <th>index</th>\n",
              "      <th>cord_uid</th>\n",
              "      <th>sha</th>\n",
              "      <th>source_x</th>\n",
              "      <th>title</th>\n",
              "      <th>doi</th>\n",
              "      <th>pmcid</th>\n",
              "      <th>pubmed_id</th>\n",
              "      <th>license</th>\n",
              "      <th>abstract</th>\n",
              "      <th>...</th>\n",
              "      <th>authors</th>\n",
              "      <th>journal</th>\n",
              "      <th>mag_id</th>\n",
              "      <th>who_covidence_id</th>\n",
              "      <th>arxiv_id</th>\n",
              "      <th>pdf_json_files</th>\n",
              "      <th>pmc_json_files</th>\n",
              "      <th>url</th>\n",
              "      <th>s2_id</th>\n",
              "      <th>text</th>\n",
              "    </tr>\n",
              "  </thead>\n",
              "  <tbody>\n",
              "    <tr>\n",
              "      <th>0</th>\n",
              "      <td>884121</td>\n",
              "      <td>flrlee96</td>\n",
              "      <td>c86d5946ce78b0c8fc0e43fb1a33c1a5ee3feeef; c0e2...</td>\n",
              "      <td>Elsevier; PMC</td>\n",
              "      <td>Assessing face masks in the environment by mea...</td>\n",
              "      <td>10.1016/j.scitotenv.2021.152859</td>\n",
              "      <td>PMC8724021</td>\n",
              "      <td>34995587.0</td>\n",
              "      <td>no-cc</td>\n",
              "      <td>The use of face masks outside the health care ...</td>\n",
              "      <td>...</td>\n",
              "      <td>Tesfaldet, Yacob T.; Ndeh, Nji T.</td>\n",
              "      <td>Sci Total Environ</td>\n",
              "      <td>NaN</td>\n",
              "      <td>NaN</td>\n",
              "      <td>NaN</td>\n",
              "      <td>document_parses/pdf_json/c86d5946ce78b0c8fc0e4...</td>\n",
              "      <td>document_parses/pmc_json/PMC8724021.xml.json</td>\n",
              "      <td>https://api.elsevier.com/content/article/pii/S...</td>\n",
              "      <td>245652163.0</td>\n",
              "      <td>As the name implies, single-use face masks are...</td>\n",
              "    </tr>\n",
              "    <tr>\n",
              "      <th>1</th>\n",
              "      <td>888988</td>\n",
              "      <td>g7ddk1hm</td>\n",
              "      <td>819e829dbefd87a2eaf166bca8dfdf8476aed245</td>\n",
              "      <td>Elsevier; Medline; PMC; WHO</td>\n",
              "      <td>Pharmaceutical compounds used in the COVID-19 ...</td>\n",
              "      <td>10.1016/j.scitotenv.2021.152691</td>\n",
              "      <td>PMC8717703</td>\n",
              "      <td>34974020.0</td>\n",
              "      <td>no-cc</td>\n",
              "      <td>During the COVID-19 pandemic, high consumption...</td>\n",
              "      <td>...</td>\n",
              "      <td>Morales-Paredes, Carlos Augusto; Rodríguez-Día...</td>\n",
              "      <td>Sci Total Environ</td>\n",
              "      <td>NaN</td>\n",
              "      <td>NaN</td>\n",
              "      <td>NaN</td>\n",
              "      <td>document_parses/pdf_json/819e829dbefd87a2eaf16...</td>\n",
              "      <td>document_parses/pmc_json/PMC8717703.xml.json</td>\n",
              "      <td>https://www.sciencedirect.com/science/article/...</td>\n",
              "      <td>245568730.0</td>\n",
              "      <td>The presence of pharmaceutical compounds and t...</td>\n",
              "    </tr>\n",
              "    <tr>\n",
              "      <th>2</th>\n",
              "      <td>812118</td>\n",
              "      <td>pb66cb6k</td>\n",
              "      <td>1840b4d970cd26945d9d11c26fa043f44aa26c19; ce63...</td>\n",
              "      <td>Elsevier; Medline; PMC; WHO</td>\n",
              "      <td>Health consequences of disinfection against SA...</td>\n",
              "      <td>10.1016/j.scitotenv.2021.152832</td>\n",
              "      <td>PMC8720300</td>\n",
              "      <td>34986424.0</td>\n",
              "      <td>no-cc</td>\n",
              "      <td>Individuals who get involved in the disinfecti...</td>\n",
              "      <td>...</td>\n",
              "      <td>Rafiee, Ata; Delgado-Saborit, Juana Maria; Sly...</td>\n",
              "      <td>Sci Total Environ</td>\n",
              "      <td>NaN</td>\n",
              "      <td>NaN</td>\n",
              "      <td>NaN</td>\n",
              "      <td>document_parses/pdf_json/1840b4d970cd26945d9d1...</td>\n",
              "      <td>document_parses/pmc_json/PMC8720300.xml.json</td>\n",
              "      <td>https://api.elsevier.com/content/article/pii/S...</td>\n",
              "      <td>245617000.0</td>\n",
              "      <td>COVID-19, a disease caused by the severe acute...</td>\n",
              "    </tr>\n",
              "    <tr>\n",
              "      <th>3</th>\n",
              "      <td>837564</td>\n",
              "      <td>orkeretn</td>\n",
              "      <td>0e377eaf4bc70ad866a446fa36c6d4bbd52f7bb5; 460d...</td>\n",
              "      <td>Elsevier; Medline; PMC; WHO</td>\n",
              "      <td>Brief, parent-led, transdiagnostic cognitive-b...</td>\n",
              "      <td>10.1016/j.jad.2022.01.034</td>\n",
              "      <td>PMC8752168</td>\n",
              "      <td>35031335.0</td>\n",
              "      <td>no-cc</td>\n",
              "      <td>BACKGROUND: The COVID-19 pandemic has led to i...</td>\n",
              "      <td>...</td>\n",
              "      <td>Guzick, Andrew G.; Leong, Alicia W.; Dickinson...</td>\n",
              "      <td>J Affect Disord</td>\n",
              "      <td>NaN</td>\n",
              "      <td>NaN</td>\n",
              "      <td>NaN</td>\n",
              "      <td>document_parses/pdf_json/0e377eaf4bc70ad866a44...</td>\n",
              "      <td>document_parses/pmc_json/PMC8752168.xml.json</td>\n",
              "      <td>https://doi.org/10.1016/j.jad.2022.01.034; htt...</td>\n",
              "      <td>245855662.0</td>\n",
              "      <td>The COVID-19 pandemic has changed nearly every...</td>\n",
              "    </tr>\n",
              "    <tr>\n",
              "      <th>4</th>\n",
              "      <td>807972</td>\n",
              "      <td>sd6pg3sf</td>\n",
              "      <td>f6b6be81a360f4d90553b62b95f5e15201df5ac9; 3c85...</td>\n",
              "      <td>Elsevier; Medline; PMC; WHO</td>\n",
              "      <td>Direct capture and smartphone quantification o...</td>\n",
              "      <td>10.1016/j.bios.2021.113912</td>\n",
              "      <td>PMC8701770</td>\n",
              "      <td>34973565.0</td>\n",
              "      <td>no-cc</td>\n",
              "      <td>SARS, a new type of respiratory disease caused...</td>\n",
              "      <td>...</td>\n",
              "      <td>Kim, Sangsik; Akarapipad, Patarajarin; Nguyen,...</td>\n",
              "      <td>Biosens Bioelectron</td>\n",
              "      <td>NaN</td>\n",
              "      <td>NaN</td>\n",
              "      <td>NaN</td>\n",
              "      <td>document_parses/pdf_json/f6b6be81a360f4d90553b...</td>\n",
              "      <td>document_parses/pmc_json/PMC8701770.xml.json</td>\n",
              "      <td>https://api.elsevier.com/content/article/pii/S...</td>\n",
              "      <td>245426397.0</td>\n",
              "      <td>We have recently witnessed the worldwide pande...</td>\n",
              "    </tr>\n",
              "  </tbody>\n",
              "</table>\n",
              "<p>5 rows × 21 columns</p>\n",
              "</div>"
            ],
            "text/plain": [
              "    index  cord_uid                                                sha  \\\n",
              "0  884121  flrlee96  c86d5946ce78b0c8fc0e43fb1a33c1a5ee3feeef; c0e2...   \n",
              "1  888988  g7ddk1hm           819e829dbefd87a2eaf166bca8dfdf8476aed245   \n",
              "2  812118  pb66cb6k  1840b4d970cd26945d9d11c26fa043f44aa26c19; ce63...   \n",
              "3  837564  orkeretn  0e377eaf4bc70ad866a446fa36c6d4bbd52f7bb5; 460d...   \n",
              "4  807972  sd6pg3sf  f6b6be81a360f4d90553b62b95f5e15201df5ac9; 3c85...   \n",
              "\n",
              "                      source_x  \\\n",
              "0                Elsevier; PMC   \n",
              "1  Elsevier; Medline; PMC; WHO   \n",
              "2  Elsevier; Medline; PMC; WHO   \n",
              "3  Elsevier; Medline; PMC; WHO   \n",
              "4  Elsevier; Medline; PMC; WHO   \n",
              "\n",
              "                                               title  \\\n",
              "0  Assessing face masks in the environment by mea...   \n",
              "1  Pharmaceutical compounds used in the COVID-19 ...   \n",
              "2  Health consequences of disinfection against SA...   \n",
              "3  Brief, parent-led, transdiagnostic cognitive-b...   \n",
              "4  Direct capture and smartphone quantification o...   \n",
              "\n",
              "                               doi       pmcid   pubmed_id license  \\\n",
              "0  10.1016/j.scitotenv.2021.152859  PMC8724021  34995587.0   no-cc   \n",
              "1  10.1016/j.scitotenv.2021.152691  PMC8717703  34974020.0   no-cc   \n",
              "2  10.1016/j.scitotenv.2021.152832  PMC8720300  34986424.0   no-cc   \n",
              "3        10.1016/j.jad.2022.01.034  PMC8752168  35031335.0   no-cc   \n",
              "4       10.1016/j.bios.2021.113912  PMC8701770  34973565.0   no-cc   \n",
              "\n",
              "                                            abstract  ...  \\\n",
              "0  The use of face masks outside the health care ...  ...   \n",
              "1  During the COVID-19 pandemic, high consumption...  ...   \n",
              "2  Individuals who get involved in the disinfecti...  ...   \n",
              "3  BACKGROUND: The COVID-19 pandemic has led to i...  ...   \n",
              "4  SARS, a new type of respiratory disease caused...  ...   \n",
              "\n",
              "                                             authors              journal  \\\n",
              "0                  Tesfaldet, Yacob T.; Ndeh, Nji T.    Sci Total Environ   \n",
              "1  Morales-Paredes, Carlos Augusto; Rodríguez-Día...    Sci Total Environ   \n",
              "2  Rafiee, Ata; Delgado-Saborit, Juana Maria; Sly...    Sci Total Environ   \n",
              "3  Guzick, Andrew G.; Leong, Alicia W.; Dickinson...      J Affect Disord   \n",
              "4  Kim, Sangsik; Akarapipad, Patarajarin; Nguyen,...  Biosens Bioelectron   \n",
              "\n",
              "  mag_id  who_covidence_id arxiv_id  \\\n",
              "0    NaN               NaN      NaN   \n",
              "1    NaN               NaN      NaN   \n",
              "2    NaN               NaN      NaN   \n",
              "3    NaN               NaN      NaN   \n",
              "4    NaN               NaN      NaN   \n",
              "\n",
              "                                      pdf_json_files  \\\n",
              "0  document_parses/pdf_json/c86d5946ce78b0c8fc0e4...   \n",
              "1  document_parses/pdf_json/819e829dbefd87a2eaf16...   \n",
              "2  document_parses/pdf_json/1840b4d970cd26945d9d1...   \n",
              "3  document_parses/pdf_json/0e377eaf4bc70ad866a44...   \n",
              "4  document_parses/pdf_json/f6b6be81a360f4d90553b...   \n",
              "\n",
              "                                 pmc_json_files  \\\n",
              "0  document_parses/pmc_json/PMC8724021.xml.json   \n",
              "1  document_parses/pmc_json/PMC8717703.xml.json   \n",
              "2  document_parses/pmc_json/PMC8720300.xml.json   \n",
              "3  document_parses/pmc_json/PMC8752168.xml.json   \n",
              "4  document_parses/pmc_json/PMC8701770.xml.json   \n",
              "\n",
              "                                                 url        s2_id  \\\n",
              "0  https://api.elsevier.com/content/article/pii/S...  245652163.0   \n",
              "1  https://www.sciencedirect.com/science/article/...  245568730.0   \n",
              "2  https://api.elsevier.com/content/article/pii/S...  245617000.0   \n",
              "3  https://doi.org/10.1016/j.jad.2022.01.034; htt...  245855662.0   \n",
              "4  https://api.elsevier.com/content/article/pii/S...  245426397.0   \n",
              "\n",
              "                                                text  \n",
              "0  As the name implies, single-use face masks are...  \n",
              "1  The presence of pharmaceutical compounds and t...  \n",
              "2  COVID-19, a disease caused by the severe acute...  \n",
              "3  The COVID-19 pandemic has changed nearly every...  \n",
              "4  We have recently witnessed the worldwide pande...  \n",
              "\n",
              "[5 rows x 21 columns]"
            ]
          },
          "execution_count": 86,
          "metadata": {},
          "output_type": "execute_result"
        }
      ],
      "source": [
        "del df_metadata\n",
        "df_sample20.head()"
      ],
      "id": "16a4003c-f397-40cd-8ade-9dbf5c9eb174"
    },
    {
      "cell_type": "code",
      "execution_count": null,
      "metadata": {
        "id": "c15b142c-2359-43ae-94cc-a538b7ca5a59",
        "outputId": "c92de2e1-3e95-41ce-9530-59bc4e24ccc9"
      },
      "outputs": [
        {
          "data": {
            "text/html": [
              "<div>\n",
              "<style scoped>\n",
              "    .dataframe tbody tr th:only-of-type {\n",
              "        vertical-align: middle;\n",
              "    }\n",
              "\n",
              "    .dataframe tbody tr th {\n",
              "        vertical-align: top;\n",
              "    }\n",
              "\n",
              "    .dataframe thead th {\n",
              "        text-align: right;\n",
              "    }\n",
              "</style>\n",
              "<table border=\"1\" class=\"dataframe\">\n",
              "  <thead>\n",
              "    <tr style=\"text-align: right;\">\n",
              "      <th></th>\n",
              "      <th>index</th>\n",
              "      <th>cord_uid</th>\n",
              "      <th>sha</th>\n",
              "      <th>title</th>\n",
              "      <th>abstract</th>\n",
              "      <th>publish_time</th>\n",
              "      <th>pdf_json_files</th>\n",
              "      <th>pmc_json_files</th>\n",
              "      <th>text</th>\n",
              "    </tr>\n",
              "  </thead>\n",
              "  <tbody>\n",
              "    <tr>\n",
              "      <th>0</th>\n",
              "      <td>884121</td>\n",
              "      <td>flrlee96</td>\n",
              "      <td>c86d5946ce78b0c8fc0e43fb1a33c1a5ee3feeef; c0e2...</td>\n",
              "      <td>Assessing face masks in the environment by mea...</td>\n",
              "      <td>The use of face masks outside the health care ...</td>\n",
              "      <td>2022-03-25</td>\n",
              "      <td>document_parses/pdf_json/c86d5946ce78b0c8fc0e4...</td>\n",
              "      <td>document_parses/pmc_json/PMC8724021.xml.json</td>\n",
              "      <td>As the name implies, single-use face masks are...</td>\n",
              "    </tr>\n",
              "    <tr>\n",
              "      <th>1</th>\n",
              "      <td>888988</td>\n",
              "      <td>g7ddk1hm</td>\n",
              "      <td>819e829dbefd87a2eaf166bca8dfdf8476aed245</td>\n",
              "      <td>Pharmaceutical compounds used in the COVID-19 ...</td>\n",
              "      <td>During the COVID-19 pandemic, high consumption...</td>\n",
              "      <td>2022-03-25</td>\n",
              "      <td>document_parses/pdf_json/819e829dbefd87a2eaf16...</td>\n",
              "      <td>document_parses/pmc_json/PMC8717703.xml.json</td>\n",
              "      <td>The presence of pharmaceutical compounds and t...</td>\n",
              "    </tr>\n",
              "    <tr>\n",
              "      <th>2</th>\n",
              "      <td>812118</td>\n",
              "      <td>pb66cb6k</td>\n",
              "      <td>1840b4d970cd26945d9d11c26fa043f44aa26c19; ce63...</td>\n",
              "      <td>Health consequences of disinfection against SA...</td>\n",
              "      <td>Individuals who get involved in the disinfecti...</td>\n",
              "      <td>2022-03-25</td>\n",
              "      <td>document_parses/pdf_json/1840b4d970cd26945d9d1...</td>\n",
              "      <td>document_parses/pmc_json/PMC8720300.xml.json</td>\n",
              "      <td>COVID-19, a disease caused by the severe acute...</td>\n",
              "    </tr>\n",
              "    <tr>\n",
              "      <th>3</th>\n",
              "      <td>837564</td>\n",
              "      <td>orkeretn</td>\n",
              "      <td>0e377eaf4bc70ad866a446fa36c6d4bbd52f7bb5; 460d...</td>\n",
              "      <td>Brief, parent-led, transdiagnostic cognitive-b...</td>\n",
              "      <td>BACKGROUND: The COVID-19 pandemic has led to i...</td>\n",
              "      <td>2022-03-15</td>\n",
              "      <td>document_parses/pdf_json/0e377eaf4bc70ad866a44...</td>\n",
              "      <td>document_parses/pmc_json/PMC8752168.xml.json</td>\n",
              "      <td>The COVID-19 pandemic has changed nearly every...</td>\n",
              "    </tr>\n",
              "    <tr>\n",
              "      <th>4</th>\n",
              "      <td>807972</td>\n",
              "      <td>sd6pg3sf</td>\n",
              "      <td>f6b6be81a360f4d90553b62b95f5e15201df5ac9; 3c85...</td>\n",
              "      <td>Direct capture and smartphone quantification o...</td>\n",
              "      <td>SARS, a new type of respiratory disease caused...</td>\n",
              "      <td>2022-03-15</td>\n",
              "      <td>document_parses/pdf_json/f6b6be81a360f4d90553b...</td>\n",
              "      <td>document_parses/pmc_json/PMC8701770.xml.json</td>\n",
              "      <td>We have recently witnessed the worldwide pande...</td>\n",
              "    </tr>\n",
              "    <tr>\n",
              "      <th>...</th>\n",
              "      <td>...</td>\n",
              "      <td>...</td>\n",
              "      <td>...</td>\n",
              "      <td>...</td>\n",
              "      <td>...</td>\n",
              "      <td>...</td>\n",
              "      <td>...</td>\n",
              "      <td>...</td>\n",
              "      <td>...</td>\n",
              "    </tr>\n",
              "    <tr>\n",
              "      <th>19995</th>\n",
              "      <td>770507</td>\n",
              "      <td>1syhlbxn</td>\n",
              "      <td>3d3cb448ed070224af8f6940cab1eea6dac69cc6</td>\n",
              "      <td>The European Genome-phenome Archive in 2021</td>\n",
              "      <td>The European Genome-phenome Archive (EGA - htt...</td>\n",
              "      <td>2021-11-17</td>\n",
              "      <td>document_parses/pdf_json/3d3cb448ed070224af8f6...</td>\n",
              "      <td>document_parses/pmc_json/PMC8728218.xml.json</td>\n",
              "      <td>The European Genome-phenome Archive (EGA) is a...</td>\n",
              "    </tr>\n",
              "    <tr>\n",
              "      <th>19996</th>\n",
              "      <td>770638</td>\n",
              "      <td>wxkivq3b</td>\n",
              "      <td>53cb2c64647a2136998a5f8955d73d7bbb8bff5b</td>\n",
              "      <td>Adverse drug reactions reporting practice and ...</td>\n",
              "      <td>INTRODUCTION: timely adverse drug reactions (A...</td>\n",
              "      <td>2021-11-17</td>\n",
              "      <td>document_parses/pdf_json/53cb2c64647a2136998a5...</td>\n",
              "      <td>document_parses/pmc_json/PMC8683451.xml.json</td>\n",
              "      <td>Adverse Drug Reactions (ADRs) constitute an im...</td>\n",
              "    </tr>\n",
              "    <tr>\n",
              "      <th>19997</th>\n",
              "      <td>852900</td>\n",
              "      <td>a8euut84</td>\n",
              "      <td>034d787fdafaa888e699da8f69be56ad8c651579</td>\n",
              "      <td>Role of miRNAs as biomarkers of COVID-19: a sc...</td>\n",
              "      <td>Aim: miRNAs are potential biomarkers of severa...</td>\n",
              "      <td>2021-11-17</td>\n",
              "      <td>document_parses/pdf_json/034d787fdafaa888e699d...</td>\n",
              "      <td>document_parses/pmc_json/PMC8601154.xml.json</td>\n",
              "      <td>A comprehensive search of literature published...</td>\n",
              "    </tr>\n",
              "    <tr>\n",
              "      <th>19998</th>\n",
              "      <td>819775</td>\n",
              "      <td>omrgr0r7</td>\n",
              "      <td>8d6ece323f61d6657e70e7994701bbd9d889e584</td>\n",
              "      <td>Access to material resources and the subjectiv...</td>\n",
              "      <td>This article analyzes the relationships betwee...</td>\n",
              "      <td>2021-11-17</td>\n",
              "      <td>document_parses/pdf_json/8d6ece323f61d6657e70e...</td>\n",
              "      <td>document_parses/pmc_json/PMC8596856.xml.json</td>\n",
              "      <td>Notable importance in recent years has been as...</td>\n",
              "    </tr>\n",
              "    <tr>\n",
              "      <th>19999</th>\n",
              "      <td>614565</td>\n",
              "      <td>mb4ucph2</td>\n",
              "      <td>e000d3c4bb37b1d2292c37f5b93f8f2347257c34</td>\n",
              "      <td>Angiotensin II receptor I auto-antibodies foll...</td>\n",
              "      <td>BACKGROUND: Coronavirus disease 2019 (COVID-19...</td>\n",
              "      <td>2021-11-17</td>\n",
              "      <td>document_parses/pdf_json/e000d3c4bb37b1d2292c3...</td>\n",
              "      <td>document_parses/pmc_json/PMC8598062.xml.json</td>\n",
              "      <td>Coagulopathy occurs frequently with severe dis...</td>\n",
              "    </tr>\n",
              "  </tbody>\n",
              "</table>\n",
              "<p>20000 rows × 9 columns</p>\n",
              "</div>"
            ],
            "text/plain": [
              "        index  cord_uid                                                sha  \\\n",
              "0      884121  flrlee96  c86d5946ce78b0c8fc0e43fb1a33c1a5ee3feeef; c0e2...   \n",
              "1      888988  g7ddk1hm           819e829dbefd87a2eaf166bca8dfdf8476aed245   \n",
              "2      812118  pb66cb6k  1840b4d970cd26945d9d11c26fa043f44aa26c19; ce63...   \n",
              "3      837564  orkeretn  0e377eaf4bc70ad866a446fa36c6d4bbd52f7bb5; 460d...   \n",
              "4      807972  sd6pg3sf  f6b6be81a360f4d90553b62b95f5e15201df5ac9; 3c85...   \n",
              "...       ...       ...                                                ...   \n",
              "19995  770507  1syhlbxn           3d3cb448ed070224af8f6940cab1eea6dac69cc6   \n",
              "19996  770638  wxkivq3b           53cb2c64647a2136998a5f8955d73d7bbb8bff5b   \n",
              "19997  852900  a8euut84           034d787fdafaa888e699da8f69be56ad8c651579   \n",
              "19998  819775  omrgr0r7           8d6ece323f61d6657e70e7994701bbd9d889e584   \n",
              "19999  614565  mb4ucph2           e000d3c4bb37b1d2292c37f5b93f8f2347257c34   \n",
              "\n",
              "                                                   title  \\\n",
              "0      Assessing face masks in the environment by mea...   \n",
              "1      Pharmaceutical compounds used in the COVID-19 ...   \n",
              "2      Health consequences of disinfection against SA...   \n",
              "3      Brief, parent-led, transdiagnostic cognitive-b...   \n",
              "4      Direct capture and smartphone quantification o...   \n",
              "...                                                  ...   \n",
              "19995        The European Genome-phenome Archive in 2021   \n",
              "19996  Adverse drug reactions reporting practice and ...   \n",
              "19997  Role of miRNAs as biomarkers of COVID-19: a sc...   \n",
              "19998  Access to material resources and the subjectiv...   \n",
              "19999  Angiotensin II receptor I auto-antibodies foll...   \n",
              "\n",
              "                                                abstract publish_time  \\\n",
              "0      The use of face masks outside the health care ...   2022-03-25   \n",
              "1      During the COVID-19 pandemic, high consumption...   2022-03-25   \n",
              "2      Individuals who get involved in the disinfecti...   2022-03-25   \n",
              "3      BACKGROUND: The COVID-19 pandemic has led to i...   2022-03-15   \n",
              "4      SARS, a new type of respiratory disease caused...   2022-03-15   \n",
              "...                                                  ...          ...   \n",
              "19995  The European Genome-phenome Archive (EGA - htt...   2021-11-17   \n",
              "19996  INTRODUCTION: timely adverse drug reactions (A...   2021-11-17   \n",
              "19997  Aim: miRNAs are potential biomarkers of severa...   2021-11-17   \n",
              "19998  This article analyzes the relationships betwee...   2021-11-17   \n",
              "19999  BACKGROUND: Coronavirus disease 2019 (COVID-19...   2021-11-17   \n",
              "\n",
              "                                          pdf_json_files  \\\n",
              "0      document_parses/pdf_json/c86d5946ce78b0c8fc0e4...   \n",
              "1      document_parses/pdf_json/819e829dbefd87a2eaf16...   \n",
              "2      document_parses/pdf_json/1840b4d970cd26945d9d1...   \n",
              "3      document_parses/pdf_json/0e377eaf4bc70ad866a44...   \n",
              "4      document_parses/pdf_json/f6b6be81a360f4d90553b...   \n",
              "...                                                  ...   \n",
              "19995  document_parses/pdf_json/3d3cb448ed070224af8f6...   \n",
              "19996  document_parses/pdf_json/53cb2c64647a2136998a5...   \n",
              "19997  document_parses/pdf_json/034d787fdafaa888e699d...   \n",
              "19998  document_parses/pdf_json/8d6ece323f61d6657e70e...   \n",
              "19999  document_parses/pdf_json/e000d3c4bb37b1d2292c3...   \n",
              "\n",
              "                                     pmc_json_files  \\\n",
              "0      document_parses/pmc_json/PMC8724021.xml.json   \n",
              "1      document_parses/pmc_json/PMC8717703.xml.json   \n",
              "2      document_parses/pmc_json/PMC8720300.xml.json   \n",
              "3      document_parses/pmc_json/PMC8752168.xml.json   \n",
              "4      document_parses/pmc_json/PMC8701770.xml.json   \n",
              "...                                             ...   \n",
              "19995  document_parses/pmc_json/PMC8728218.xml.json   \n",
              "19996  document_parses/pmc_json/PMC8683451.xml.json   \n",
              "19997  document_parses/pmc_json/PMC8601154.xml.json   \n",
              "19998  document_parses/pmc_json/PMC8596856.xml.json   \n",
              "19999  document_parses/pmc_json/PMC8598062.xml.json   \n",
              "\n",
              "                                                    text  \n",
              "0      As the name implies, single-use face masks are...  \n",
              "1      The presence of pharmaceutical compounds and t...  \n",
              "2      COVID-19, a disease caused by the severe acute...  \n",
              "3      The COVID-19 pandemic has changed nearly every...  \n",
              "4      We have recently witnessed the worldwide pande...  \n",
              "...                                                  ...  \n",
              "19995  The European Genome-phenome Archive (EGA) is a...  \n",
              "19996  Adverse Drug Reactions (ADRs) constitute an im...  \n",
              "19997  A comprehensive search of literature published...  \n",
              "19998  Notable importance in recent years has been as...  \n",
              "19999  Coagulopathy occurs frequently with severe dis...  \n",
              "\n",
              "[20000 rows x 9 columns]"
            ]
          },
          "execution_count": 87,
          "metadata": {},
          "output_type": "execute_result"
        }
      ],
      "source": [
        "df_sample20.drop(['source_x', 'doi', 'pmcid', 'pubmed_id', 'license', 'authors', 'journal', 'mag_id', 'who_covidence_id', 'arxiv_id', 'url', 's2_id'], axis=1)"
      ],
      "id": "c15b142c-2359-43ae-94cc-a538b7ca5a59"
    },
    {
      "cell_type": "code",
      "execution_count": null,
      "metadata": {
        "id": "2bad9863-98f8-49ca-93a1-9128366b1038"
      },
      "outputs": [],
      "source": [
        "# Save to Pickle to use this data as base for the model\n",
        "df_sample20.to_pickle('df_sample20.pickle')"
      ],
      "id": "2bad9863-98f8-49ca-93a1-9128366b1038"
    },
    {
      "cell_type": "markdown",
      "source": [
        "# Exploratory Data Analysis"
      ],
      "metadata": {
        "id": "b8v2pfJ4BUWh"
      },
      "id": "b8v2pfJ4BUWh"
    },
    {
      "cell_type": "code",
      "source": [
        "from google.colab import drive\n",
        "drive.mount('/content/gdrive')"
      ],
      "metadata": {
        "colab": {
          "base_uri": "https://localhost:8080/"
        },
        "id": "xjzX8ppGwTGP",
        "outputId": "d310a3d5-5071-4ffa-d640-c85c639c421e"
      },
      "id": "xjzX8ppGwTGP",
      "execution_count": null,
      "outputs": [
        {
          "output_type": "stream",
          "name": "stdout",
          "text": [
            "Mounted at /content/gdrive\n"
          ]
        }
      ]
    },
    {
      "cell_type": "code",
      "source": [
        "cd /content/gdrive/MyDrive/IDC_AdvML"
      ],
      "metadata": {
        "colab": {
          "base_uri": "https://localhost:8080/"
        },
        "id": "1G-e-ew5wblD",
        "outputId": "6b990a4b-05be-43c1-f2c7-a9fe41b458e2"
      },
      "id": "1G-e-ew5wblD",
      "execution_count": null,
      "outputs": [
        {
          "output_type": "stream",
          "name": "stdout",
          "text": [
            "/content/gdrive/.shortcut-targets-by-id/1Fg_Qoe86_zPHEpJP7qQTjfY7jrnT010g/IDC_AdvML\n"
          ]
        }
      ]
    },
    {
      "cell_type": "code",
      "source": [
        "df = pd.read_pickle('df_sample20.pickle')"
      ],
      "metadata": {
        "id": "O8VfEYBNBhAv"
      },
      "id": "O8VfEYBNBhAv",
      "execution_count": null,
      "outputs": []
    },
    {
      "cell_type": "code",
      "source": [
        "df[['sha', 'title', 'abstract','journal','text']].head(3)"
      ],
      "metadata": {
        "colab": {
          "base_uri": "https://localhost:8080/",
          "height": 144
        },
        "id": "pgvs-3KXwvof",
        "outputId": "1601de2f-497a-40f0-f1e9-303ee60bb01a"
      },
      "id": "pgvs-3KXwvof",
      "execution_count": null,
      "outputs": [
        {
          "output_type": "execute_result",
          "data": {
            "text/plain": [
              "                                                 sha  \\\n",
              "0  c86d5946ce78b0c8fc0e43fb1a33c1a5ee3feeef; c0e2...   \n",
              "1           819e829dbefd87a2eaf166bca8dfdf8476aed245   \n",
              "2  1840b4d970cd26945d9d11c26fa043f44aa26c19; ce63...   \n",
              "\n",
              "                                               title  \\\n",
              "0  Assessing face masks in the environment by mea...   \n",
              "1  Pharmaceutical compounds used in the COVID-19 ...   \n",
              "2  Health consequences of disinfection against SA...   \n",
              "\n",
              "                                            abstract            journal  \\\n",
              "0  The use of face masks outside the health care ...  Sci Total Environ   \n",
              "1  During the COVID-19 pandemic, high consumption...  Sci Total Environ   \n",
              "2  Individuals who get involved in the disinfecti...  Sci Total Environ   \n",
              "\n",
              "                                                text  \n",
              "0  As the name implies, single-use face masks are...  \n",
              "1  The presence of pharmaceutical compounds and t...  \n",
              "2  COVID-19, a disease caused by the severe acute...  "
            ],
            "text/html": [
              "\n",
              "  <div id=\"df-7e1d5510-9562-4c2b-b6b7-5dbf1bf4883a\">\n",
              "    <div class=\"colab-df-container\">\n",
              "      <div>\n",
              "<style scoped>\n",
              "    .dataframe tbody tr th:only-of-type {\n",
              "        vertical-align: middle;\n",
              "    }\n",
              "\n",
              "    .dataframe tbody tr th {\n",
              "        vertical-align: top;\n",
              "    }\n",
              "\n",
              "    .dataframe thead th {\n",
              "        text-align: right;\n",
              "    }\n",
              "</style>\n",
              "<table border=\"1\" class=\"dataframe\">\n",
              "  <thead>\n",
              "    <tr style=\"text-align: right;\">\n",
              "      <th></th>\n",
              "      <th>sha</th>\n",
              "      <th>title</th>\n",
              "      <th>abstract</th>\n",
              "      <th>journal</th>\n",
              "      <th>text</th>\n",
              "    </tr>\n",
              "  </thead>\n",
              "  <tbody>\n",
              "    <tr>\n",
              "      <th>0</th>\n",
              "      <td>c86d5946ce78b0c8fc0e43fb1a33c1a5ee3feeef; c0e2...</td>\n",
              "      <td>Assessing face masks in the environment by mea...</td>\n",
              "      <td>The use of face masks outside the health care ...</td>\n",
              "      <td>Sci Total Environ</td>\n",
              "      <td>As the name implies, single-use face masks are...</td>\n",
              "    </tr>\n",
              "    <tr>\n",
              "      <th>1</th>\n",
              "      <td>819e829dbefd87a2eaf166bca8dfdf8476aed245</td>\n",
              "      <td>Pharmaceutical compounds used in the COVID-19 ...</td>\n",
              "      <td>During the COVID-19 pandemic, high consumption...</td>\n",
              "      <td>Sci Total Environ</td>\n",
              "      <td>The presence of pharmaceutical compounds and t...</td>\n",
              "    </tr>\n",
              "    <tr>\n",
              "      <th>2</th>\n",
              "      <td>1840b4d970cd26945d9d11c26fa043f44aa26c19; ce63...</td>\n",
              "      <td>Health consequences of disinfection against SA...</td>\n",
              "      <td>Individuals who get involved in the disinfecti...</td>\n",
              "      <td>Sci Total Environ</td>\n",
              "      <td>COVID-19, a disease caused by the severe acute...</td>\n",
              "    </tr>\n",
              "  </tbody>\n",
              "</table>\n",
              "</div>\n",
              "      <button class=\"colab-df-convert\" onclick=\"convertToInteractive('df-7e1d5510-9562-4c2b-b6b7-5dbf1bf4883a')\"\n",
              "              title=\"Convert this dataframe to an interactive table.\"\n",
              "              style=\"display:none;\">\n",
              "        \n",
              "  <svg xmlns=\"http://www.w3.org/2000/svg\" height=\"24px\"viewBox=\"0 0 24 24\"\n",
              "       width=\"24px\">\n",
              "    <path d=\"M0 0h24v24H0V0z\" fill=\"none\"/>\n",
              "    <path d=\"M18.56 5.44l.94 2.06.94-2.06 2.06-.94-2.06-.94-.94-2.06-.94 2.06-2.06.94zm-11 1L8.5 8.5l.94-2.06 2.06-.94-2.06-.94L8.5 2.5l-.94 2.06-2.06.94zm10 10l.94 2.06.94-2.06 2.06-.94-2.06-.94-.94-2.06-.94 2.06-2.06.94z\"/><path d=\"M17.41 7.96l-1.37-1.37c-.4-.4-.92-.59-1.43-.59-.52 0-1.04.2-1.43.59L10.3 9.45l-7.72 7.72c-.78.78-.78 2.05 0 2.83L4 21.41c.39.39.9.59 1.41.59.51 0 1.02-.2 1.41-.59l7.78-7.78 2.81-2.81c.8-.78.8-2.07 0-2.86zM5.41 20L4 18.59l7.72-7.72 1.47 1.35L5.41 20z\"/>\n",
              "  </svg>\n",
              "      </button>\n",
              "      \n",
              "  <style>\n",
              "    .colab-df-container {\n",
              "      display:flex;\n",
              "      flex-wrap:wrap;\n",
              "      gap: 12px;\n",
              "    }\n",
              "\n",
              "    .colab-df-convert {\n",
              "      background-color: #E8F0FE;\n",
              "      border: none;\n",
              "      border-radius: 50%;\n",
              "      cursor: pointer;\n",
              "      display: none;\n",
              "      fill: #1967D2;\n",
              "      height: 32px;\n",
              "      padding: 0 0 0 0;\n",
              "      width: 32px;\n",
              "    }\n",
              "\n",
              "    .colab-df-convert:hover {\n",
              "      background-color: #E2EBFA;\n",
              "      box-shadow: 0px 1px 2px rgba(60, 64, 67, 0.3), 0px 1px 3px 1px rgba(60, 64, 67, 0.15);\n",
              "      fill: #174EA6;\n",
              "    }\n",
              "\n",
              "    [theme=dark] .colab-df-convert {\n",
              "      background-color: #3B4455;\n",
              "      fill: #D2E3FC;\n",
              "    }\n",
              "\n",
              "    [theme=dark] .colab-df-convert:hover {\n",
              "      background-color: #434B5C;\n",
              "      box-shadow: 0px 1px 3px 1px rgba(0, 0, 0, 0.15);\n",
              "      filter: drop-shadow(0px 1px 2px rgba(0, 0, 0, 0.3));\n",
              "      fill: #FFFFFF;\n",
              "    }\n",
              "  </style>\n",
              "\n",
              "      <script>\n",
              "        const buttonEl =\n",
              "          document.querySelector('#df-7e1d5510-9562-4c2b-b6b7-5dbf1bf4883a button.colab-df-convert');\n",
              "        buttonEl.style.display =\n",
              "          google.colab.kernel.accessAllowed ? 'block' : 'none';\n",
              "\n",
              "        async function convertToInteractive(key) {\n",
              "          const element = document.querySelector('#df-7e1d5510-9562-4c2b-b6b7-5dbf1bf4883a');\n",
              "          const dataTable =\n",
              "            await google.colab.kernel.invokeFunction('convertToInteractive',\n",
              "                                                     [key], {});\n",
              "          if (!dataTable) return;\n",
              "\n",
              "          const docLinkHtml = 'Like what you see? Visit the ' +\n",
              "            '<a target=\"_blank\" href=https://colab.research.google.com/notebooks/data_table.ipynb>data table notebook</a>'\n",
              "            + ' to learn more about interactive tables.';\n",
              "          element.innerHTML = '';\n",
              "          dataTable['output_type'] = 'display_data';\n",
              "          await google.colab.output.renderOutput(dataTable, element);\n",
              "          const docLink = document.createElement('div');\n",
              "          docLink.innerHTML = docLinkHtml;\n",
              "          element.appendChild(docLink);\n",
              "        }\n",
              "      </script>\n",
              "    </div>\n",
              "  </div>\n",
              "  "
            ]
          },
          "metadata": {},
          "execution_count": 17
        }
      ]
    },
    {
      "cell_type": "code",
      "source": [
        "ax = df['publish_time'].apply(lambda x:x[0:-3] if len(x) > 4 else x).value_counts().plot(kind = 'bar', fontsize =14, title = 'Publications Per Yeah-Month')\n",
        "ax.title.set_size(18)\n",
        "ax.bar_label(ax.containers[0],fontsize=14)\n",
        "plt.xticks(rotation=70)\n",
        "plt.show()"
      ],
      "metadata": {
        "colab": {
          "base_uri": "https://localhost:8080/",
          "height": 334
        },
        "id": "kPtq4iwqBruQ",
        "outputId": "4a87e975-e1d0-43c0-c94f-631f094acb27"
      },
      "id": "kPtq4iwqBruQ",
      "execution_count": null,
      "outputs": [
        {
          "output_type": "display_data",
          "data": {
            "text/plain": [
              "<Figure size 432x288 with 1 Axes>"
            ],
            "image/png": "[encoded data removed]"
          },
          "metadata": {
            "needs_background": "light"
          }
        }
      ]
    },
    {
      "cell_type": "code",
      "source": [
        "ax = df['journal'].value_counts().nlargest(25).plot(kind = 'bar', fontsize =14,figsize = (20,10), title = '25 Most published Journals')\n",
        "ax.title.set_size(18)\n",
        "ax.bar_label(ax.containers[0],fontsize=14)\n",
        "plt.xticks(rotation=70)\n",
        "plt.show()"
      ],
      "metadata": {
        "colab": {
          "base_uri": "https://localhost:8080/",
          "height": 804
        },
        "id": "FZqGh2mcG2Ib",
        "outputId": "3585f883-66d4-43d4-ab08-1db7ccc597ed"
      },
      "id": "FZqGh2mcG2Ib",
      "execution_count": null,
      "outputs": [
        {
          "output_type": "display_data",
          "data": {
            "text/plain": [
              "<Figure size 1440x720 with 1 Axes>"
            ],
            "image/png": "[encoded data removed]"
          },
          "metadata": {
            "needs_background": "light"
          }
        }
      ]
    },
    {
      "cell_type": "code",
      "source": [
        "ax = df['source_x'].value_counts().plot(kind = 'bar', fontsize =14,figsize = (20,10), title = 'Papers source distribution')\n",
        "ax.title.set_size(18)\n",
        "ax.bar_label(ax.containers[0],fontsize=14)\n",
        "plt.xticks(rotation=70)\n",
        "plt.show()"
      ],
      "metadata": {
        "colab": {
          "base_uri": "https://localhost:8080/",
          "height": 842
        },
        "id": "wqbH7kg5HzMC",
        "outputId": "09dfa9f1-f311-49d0-e7a2-aeb1286ac477"
      },
      "id": "wqbH7kg5HzMC",
      "execution_count": null,
      "outputs": [
        {
          "output_type": "display_data",
          "data": {
            "text/plain": [
              "<Figure size 1440x720 with 1 Axes>"
            ],
            "image/png": "[encoded data removed]"
          },
          "metadata": {
            "needs_background": "light"
          }
        }
      ]
    },
    {
      "cell_type": "markdown",
      "metadata": {
        "id": "6s1jO_cYRkS3"
      },
      "source": [
        "# Compression and similarity\n"
      ],
      "id": "6s1jO_cYRkS3"
    },
    {
      "cell_type": "code",
      "execution_count": null,
      "metadata": {
        "colab": {
          "base_uri": "https://localhost:8080/"
        },
        "id": "c7b20b65-5baf-491b-8a79-1badf0f45e83",
        "outputId": "233b3ad2-35bb-4722-f257-26865e53b80e"
      },
      "outputs": [
        {
          "output_type": "execute_result",
          "data": {
            "text/plain": [
              "0    As the name implies, single-use face masks are...\n",
              "1    The presence of pharmaceutical compounds and t...\n",
              "2    COVID-19, a disease caused by the severe acute...\n",
              "Name: text, dtype: object"
            ]
          },
          "metadata": {},
          "execution_count": 5
        }
      ],
      "source": [
        "df_sample20 = pd.read_pickle('df_sample20.pickle')['text']\n",
        "df = pd.read_pickle('df_sample20.pickle')\n",
        "df_sample20.head(3)"
      ],
      "id": "c7b20b65-5baf-491b-8a79-1badf0f45e83"
    },
    {
      "cell_type": "markdown",
      "source": [
        "### Implementing Distance And Similarity metrics"
      ],
      "metadata": {
        "id": "2exi4n_6qg2G"
      },
      "id": "2exi4n_6qg2G"
    },
    {
      "cell_type": "code",
      "execution_count": null,
      "metadata": {
        "id": "xl2LXLGrp-m-"
      },
      "outputs": [],
      "source": [
        "def NCD(x,y):\n",
        "  '''\n",
        "  * Similarity metric *\n",
        "  Getting the Normalized Compression Distance of two objects\n",
        "  using the gzip\n",
        "  input: \n",
        "           x,y - objects\n",
        "  returns:\n",
        "           Distance \\in [0,1] where:\n",
        "              0 - Identical\n",
        "              1 - Completely dissimilar\n",
        "  '''\n",
        "  xy = x + y  # concatenates objects\n",
        "  x_c = gzip.compress(bytes(x, 'utf-8'))   # x compression\n",
        "  y_c= gzip.compress(bytes(y, 'utf-8'))  # y compression\n",
        "  xy_c = gzip.compress(bytes(xy, 'utf-8'))  #concatenated file compression\n",
        "  # Calculating 'distance'\n",
        "  ncd = (len(xy_c) - min(len(x_c), len(y_c))) / max(len(x_c), len(y_c))\n",
        "  return ncd\n"
      ],
      "id": "xl2LXLGrp-m-"
    },
    {
      "cell_type": "code",
      "execution_count": null,
      "metadata": {
        "id": "4NaFtj4Xm0PZ"
      },
      "outputs": [],
      "source": [
        "def BCN(x,y):\n",
        "  '''\n",
        "  * Distance metric *\n",
        "  Based on Getting the Best-Compression Neighbor K-nn method0\n",
        "  using the gzip\n",
        "  input: \n",
        "           x,y - objects\n",
        "  returns:\n",
        "           Distance of the anchor x to an object y\n",
        "  '''\n",
        "  y_c= gzip.compress(bytes(y, 'utf-8'))  # y compression\n",
        "  xy = x + y  # concatenates objects\n",
        "  xy_c = gzip.compress(bytes(xy, 'utf-8'))  #concatenated file compression\n",
        "  return (len(xy_c) - len(y_c))"
      ],
      "id": "4NaFtj4Xm0PZ"
    },
    {
      "cell_type": "markdown",
      "source": [
        "## Checking k-Nearest-Papers for a sampled paper"
      ],
      "metadata": {
        "id": "X7vb4IYkqrYj"
      },
      "id": "X7vb4IYkqrYj"
    },
    {
      "cell_type": "code",
      "source": [
        "def K_nearest_papers(paper,corpus,k,method='similarity'):\n",
        "  '''\n",
        "  Getting the K nearest papers to an inspected paper. can be based on similarity or distance metrics\n",
        "  input: \n",
        "           paper - input to be inspected\n",
        "           corpus - set of papers to return the nearest subset from them\n",
        "  returns:\n",
        "           k nearest papers DataFrame[Title,Full text, proximity score]\n",
        "  '''\n",
        "  corp = pd.DataFrame(corpus.copy())\n",
        "  if (corpus.text.isin(paper.text)).sum() > 0:\n",
        "      corp.drop(paper.index,inplace=True)\n",
        "  if method =='similarity':\n",
        "      print('\\nCalculating Proximity Based on Similarity\\n')\n",
        "      corp['Nearest']= corp.text.progress_apply(lambda x: NCD(x,paper.text.iloc[0]))\n",
        "  if method =='distance':\n",
        "      print('\\nCalculating Proximity Based on Distance\\n')\n",
        "      corp['Nearest']= corp.text.progress_apply(lambda x: BCN(x,paper.text.iloc[0]))\n",
        "\n",
        "  print('\\n\\nTitle Inspected',': ', paper.title.iloc[0],'\\n' )\n",
        "  sim_df = corp.loc[(corp['Nearest'].nsmallest(k)).index]\n",
        "  for i,title in enumerate(sim_df.title.tolist()):\n",
        "    print('Nearest Title', i+1, ': ', title )\n",
        "  return  sim_df"
      ],
      "metadata": {
        "id": "d0J1_SRAkK3w"
      },
      "id": "d0J1_SRAkK3w",
      "execution_count": null,
      "outputs": []
    },
    {
      "cell_type": "code",
      "source": [
        "paper = df.sample(n=1)[['title','text']]\n",
        "print(paper.title.iloc[0])"
      ],
      "metadata": {
        "colab": {
          "base_uri": "https://localhost:8080/"
        },
        "id": "rXkVGJGykgYG",
        "outputId": "3d8aa279-cef6-46cc-8699-b16c1430bc97"
      },
      "id": "rXkVGJGykgYG",
      "execution_count": null,
      "outputs": [
        {
          "output_type": "stream",
          "name": "stdout",
          "text": [
            "COVID-19 hospital activity and in-hospital mortality during the first and second waves of the pandemic in England: an observational study\n"
          ]
        }
      ]
    },
    {
      "cell_type": "code",
      "source": [
        "sim_df = K_nearest_papers(paper,df[['title','text']],5,method='similarity')\n",
        "sim_df = K_nearest_papers(paper,df[['title','text']],5,method ='distance')\n",
        "# sim_df"
      ],
      "metadata": {
        "colab": {
          "base_uri": "https://localhost:8080/"
        },
        "id": "eMhIo2OMohBm",
        "outputId": "458c8321-134b-47b8-bb07-7879df3c521c"
      },
      "id": "eMhIo2OMohBm",
      "execution_count": null,
      "outputs": [
        {
          "output_type": "stream",
          "name": "stdout",
          "text": [
            "\n",
            "Calculating Proximity Based on Similarity\n",
            "\n"
          ]
        },
        {
          "output_type": "stream",
          "name": "stderr",
          "text": [
            "100%|██████████| 19999/19999 [02:11<00:00, 151.96it/s]\n"
          ]
        },
        {
          "output_type": "stream",
          "name": "stdout",
          "text": [
            "\n",
            "\n",
            "Title Inspected :  COVID-19 hospital activity and in-hospital mortality during the first and second waves of the pandemic in England: an observational study \n",
            "\n",
            "Nearest Title 1 :  First and second waves among hospitalised patients with COVID-19 with severe pneumonia: a comparison of 28-day mortality over the 1-year pandemic in a tertiary university hospital in Italy\n",
            "Nearest Title 2 :  Inpatient COVID-19 mortality has reduced over time: Results from an observational cohort\n",
            "Nearest Title 3 :  Risk of COVID-19 hospital admission among children aged 5–17 years with asthma in Scotland: a national incident cohort study\n",
            "Nearest Title 4 :  Systemic Anti-Cancer Therapy and Metastatic Cancer Are Independent Mortality Risk Factors during Two UK Waves of the COVID-19 Pandemic at University College London Hospital\n",
            "Nearest Title 5 :  Clinical Characteristics of COVID-19 Patients in a Regional Population With Diabetes Mellitus: The ACCREDIT Study\n",
            "\n",
            "Calculating Proximity Based on Distance\n",
            "\n"
          ]
        },
        {
          "output_type": "stream",
          "name": "stderr",
          "text": [
            "100%|██████████| 19999/19999 [01:40<00:00, 198.74it/s]"
          ]
        },
        {
          "output_type": "stream",
          "name": "stdout",
          "text": [
            "\n",
            "\n",
            "Title Inspected :  COVID-19 hospital activity and in-hospital mortality during the first and second waves of the pandemic in England: an observational study \n",
            "\n",
            "Nearest Title 1 :  Is Omicron the last SARS-CoV-2 Variant of Concern?\n",
            "Nearest Title 2 :  SARS-CoV-2 adipose tissue infection and hyperglycemia: A further step towards the understanding of severe COVID-19\n",
            "Nearest Title 3 :  Papua New Guinea Under the COVID-19 Pandemic and Public Health Support from the World Health Organization\n",
            "Nearest Title 4 :  Whole-Genome Sequences Analysis Displays Relationship of SARS-CoV-2 Delta Variant Between Four Local Cases and Passengers of a Flight from South Africa — Shenzhen City, Guangdong Province, China, June 2021\n",
            "Nearest Title 5 :  In a search of a protective titer: Do we or do we not need to know?\n"
          ]
        },
        {
          "output_type": "stream",
          "name": "stderr",
          "text": [
            "\n"
          ]
        }
      ]
    },
    {
      "cell_type": "code",
      "source": [
        "paper = df.sample(n=1)[['title','text']]\n",
        "print(paper.title.iloc[0])"
      ],
      "metadata": {
        "colab": {
          "base_uri": "https://localhost:8080/"
        },
        "id": "IbT1Hjg_rh0-",
        "outputId": "7b6daee3-1a05-461f-f759-ad02758e5b0d"
      },
      "id": "IbT1Hjg_rh0-",
      "execution_count": null,
      "outputs": [
        {
          "output_type": "stream",
          "name": "stdout",
          "text": [
            "High Prevalence of Chronic Kidney Disease Among People Living with Hypertension in Rural Sierra Leone: A Cross-Sectional Study\n"
          ]
        }
      ]
    },
    {
      "cell_type": "code",
      "source": [
        "sim_df = K_nearest_papers(paper,df[['title','text']],5,method='similarity')"
      ],
      "metadata": {
        "colab": {
          "base_uri": "https://localhost:8080/"
        },
        "id": "GhuaOMoAsTSM",
        "outputId": "7ca47be4-da6a-4658-80f4-1f548c6d84c9"
      },
      "id": "GhuaOMoAsTSM",
      "execution_count": null,
      "outputs": [
        {
          "output_type": "stream",
          "name": "stdout",
          "text": [
            "\n",
            "Calculating Proximity Based on Similarity\n",
            "\n"
          ]
        },
        {
          "output_type": "stream",
          "name": "stderr",
          "text": [
            "100%|██████████| 19999/19999 [02:10<00:00, 152.77it/s]"
          ]
        },
        {
          "output_type": "stream",
          "name": "stdout",
          "text": [
            "\n",
            "\n",
            "Title Inspected :  High Prevalence of Chronic Kidney Disease Among People Living with Hypertension in Rural Sierra Leone: A Cross-Sectional Study \n",
            "\n",
            "Nearest Title 1 :  The incidence, risk factors and outcomes of acute kidney injury in critically ill patients undergoing emergency surgery: a prospective observational study\n",
            "Nearest Title 2 :  A semi-systematic review on hypertension and dyslipidemia care in Egypt—highlighting evidence gaps and recommendations for better patient outcomes\n",
            "Nearest Title 3 :  Anxiety, Depression, and Common Chronic Diseases, and Their Association With Social Determinants in Saudi Primary Care\n",
            "Nearest Title 4 :  High Fasting Blood Glucose Level With Unknown Prior History of Diabetes Is Associated With High Risk of Severe Adverse COVID-19 Outcome\n",
            "Nearest Title 5 :  Regional Differences in COVID-19 Mortality Rates in the Kingdom of Saudi Arabia: A Simulation of the New Model of Care\n"
          ]
        },
        {
          "output_type": "stream",
          "name": "stderr",
          "text": [
            "\n"
          ]
        }
      ]
    },
    {
      "cell_type": "code",
      "source": [
        "sim_df"
      ],
      "metadata": {
        "colab": {
          "base_uri": "https://localhost:8080/",
          "height": 206
        },
        "id": "JJmFfS3zwnWG",
        "outputId": "52ba542f-5de2-45ee-bc7b-7d957592437c"
      },
      "id": "JJmFfS3zwnWG",
      "execution_count": null,
      "outputs": [
        {
          "output_type": "execute_result",
          "data": {
            "text/plain": [
              "                                                   title  \\\n",
              "1097   The incidence, risk factors and outcomes of ac...   \n",
              "14985  A semi-systematic review on hypertension and d...   \n",
              "18295  Anxiety, Depression, and Common Chronic Diseas...   \n",
              "13302  High Fasting Blood Glucose Level With Unknown ...   \n",
              "7847   Regional Differences in COVID-19 Mortality Rat...   \n",
              "\n",
              "                                                    text   Nearest  \n",
              "1097   Acute kidney injury (AKI) is a common postoper...  0.895192  \n",
              "14985  Noncommunicable diseases (NCDs) were responsib...  0.896272  \n",
              "18295  The last few decades have seen a prominent shi...  0.897569  \n",
              "13302  As of August 10, 2021, more than 204 million c...  0.898757  \n",
              "7847   On 5 January 2021, the global mortality rates ...  0.899406  "
            ],
            "text/html": [
              "\n",
              "  <div id=\"df-f470840e-89af-4847-a395-d926356cd6b9\">\n",
              "    <div class=\"colab-df-container\">\n",
              "      <div>\n",
              "<style scoped>\n",
              "    .dataframe tbody tr th:only-of-type {\n",
              "        vertical-align: middle;\n",
              "    }\n",
              "\n",
              "    .dataframe tbody tr th {\n",
              "        vertical-align: top;\n",
              "    }\n",
              "\n",
              "    .dataframe thead th {\n",
              "        text-align: right;\n",
              "    }\n",
              "</style>\n",
              "<table border=\"1\" class=\"dataframe\">\n",
              "  <thead>\n",
              "    <tr style=\"text-align: right;\">\n",
              "      <th></th>\n",
              "      <th>title</th>\n",
              "      <th>text</th>\n",
              "      <th>Nearest</th>\n",
              "    </tr>\n",
              "  </thead>\n",
              "  <tbody>\n",
              "    <tr>\n",
              "      <th>1097</th>\n",
              "      <td>The incidence, risk factors and outcomes of ac...</td>\n",
              "      <td>Acute kidney injury (AKI) is a common postoper...</td>\n",
              "      <td>0.895192</td>\n",
              "    </tr>\n",
              "    <tr>\n",
              "      <th>14985</th>\n",
              "      <td>A semi-systematic review on hypertension and d...</td>\n",
              "      <td>Noncommunicable diseases (NCDs) were responsib...</td>\n",
              "      <td>0.896272</td>\n",
              "    </tr>\n",
              "    <tr>\n",
              "      <th>18295</th>\n",
              "      <td>Anxiety, Depression, and Common Chronic Diseas...</td>\n",
              "      <td>The last few decades have seen a prominent shi...</td>\n",
              "      <td>0.897569</td>\n",
              "    </tr>\n",
              "    <tr>\n",
              "      <th>13302</th>\n",
              "      <td>High Fasting Blood Glucose Level With Unknown ...</td>\n",
              "      <td>As of August 10, 2021, more than 204 million c...</td>\n",
              "      <td>0.898757</td>\n",
              "    </tr>\n",
              "    <tr>\n",
              "      <th>7847</th>\n",
              "      <td>Regional Differences in COVID-19 Mortality Rat...</td>\n",
              "      <td>On 5 January 2021, the global mortality rates ...</td>\n",
              "      <td>0.899406</td>\n",
              "    </tr>\n",
              "  </tbody>\n",
              "</table>\n",
              "</div>\n",
              "      <button class=\"colab-df-convert\" onclick=\"convertToInteractive('df-f470840e-89af-4847-a395-d926356cd6b9')\"\n",
              "              title=\"Convert this dataframe to an interactive table.\"\n",
              "              style=\"display:none;\">\n",
              "        \n",
              "  <svg xmlns=\"http://www.w3.org/2000/svg\" height=\"24px\"viewBox=\"0 0 24 24\"\n",
              "       width=\"24px\">\n",
              "    <path d=\"M0 0h24v24H0V0z\" fill=\"none\"/>\n",
              "    <path d=\"M18.56 5.44l.94 2.06.94-2.06 2.06-.94-2.06-.94-.94-2.06-.94 2.06-2.06.94zm-11 1L8.5 8.5l.94-2.06 2.06-.94-2.06-.94L8.5 2.5l-.94 2.06-2.06.94zm10 10l.94 2.06.94-2.06 2.06-.94-2.06-.94-.94-2.06-.94 2.06-2.06.94z\"/><path d=\"M17.41 7.96l-1.37-1.37c-.4-.4-.92-.59-1.43-.59-.52 0-1.04.2-1.43.59L10.3 9.45l-7.72 7.72c-.78.78-.78 2.05 0 2.83L4 21.41c.39.39.9.59 1.41.59.51 0 1.02-.2 1.41-.59l7.78-7.78 2.81-2.81c.8-.78.8-2.07 0-2.86zM5.41 20L4 18.59l7.72-7.72 1.47 1.35L5.41 20z\"/>\n",
              "  </svg>\n",
              "      </button>\n",
              "      \n",
              "  <style>\n",
              "    .colab-df-container {\n",
              "      display:flex;\n",
              "      flex-wrap:wrap;\n",
              "      gap: 12px;\n",
              "    }\n",
              "\n",
              "    .colab-df-convert {\n",
              "      background-color: #E8F0FE;\n",
              "      border: none;\n",
              "      border-radius: 50%;\n",
              "      cursor: pointer;\n",
              "      display: none;\n",
              "      fill: #1967D2;\n",
              "      height: 32px;\n",
              "      padding: 0 0 0 0;\n",
              "      width: 32px;\n",
              "    }\n",
              "\n",
              "    .colab-df-convert:hover {\n",
              "      background-color: #E2EBFA;\n",
              "      box-shadow: 0px 1px 2px rgba(60, 64, 67, 0.3), 0px 1px 3px 1px rgba(60, 64, 67, 0.15);\n",
              "      fill: #174EA6;\n",
              "    }\n",
              "\n",
              "    [theme=dark] .colab-df-convert {\n",
              "      background-color: #3B4455;\n",
              "      fill: #D2E3FC;\n",
              "    }\n",
              "\n",
              "    [theme=dark] .colab-df-convert:hover {\n",
              "      background-color: #434B5C;\n",
              "      box-shadow: 0px 1px 3px 1px rgba(0, 0, 0, 0.15);\n",
              "      filter: drop-shadow(0px 1px 2px rgba(0, 0, 0, 0.3));\n",
              "      fill: #FFFFFF;\n",
              "    }\n",
              "  </style>\n",
              "\n",
              "      <script>\n",
              "        const buttonEl =\n",
              "          document.querySelector('#df-f470840e-89af-4847-a395-d926356cd6b9 button.colab-df-convert');\n",
              "        buttonEl.style.display =\n",
              "          google.colab.kernel.accessAllowed ? 'block' : 'none';\n",
              "\n",
              "        async function convertToInteractive(key) {\n",
              "          const element = document.querySelector('#df-f470840e-89af-4847-a395-d926356cd6b9');\n",
              "          const dataTable =\n",
              "            await google.colab.kernel.invokeFunction('convertToInteractive',\n",
              "                                                     [key], {});\n",
              "          if (!dataTable) return;\n",
              "\n",
              "          const docLinkHtml = 'Like what you see? Visit the ' +\n",
              "            '<a target=\"_blank\" href=https://colab.research.google.com/notebooks/data_table.ipynb>data table notebook</a>'\n",
              "            + ' to learn more about interactive tables.';\n",
              "          element.innerHTML = '';\n",
              "          dataTable['output_type'] = 'display_data';\n",
              "          await google.colab.output.renderOutput(dataTable, element);\n",
              "          const docLink = document.createElement('div');\n",
              "          docLink.innerHTML = docLinkHtml;\n",
              "          element.appendChild(docLink);\n",
              "        }\n",
              "      </script>\n",
              "    </div>\n",
              "  </div>\n",
              "  "
            ]
          },
          "metadata": {},
          "execution_count": 19
        }
      ]
    },
    {
      "cell_type": "markdown",
      "source": [
        "From the similarity based calculation, we can interpret the nearest papers  are somehow related in a matter that they talk about: covid waves, mortality and cohort studies."
      ],
      "metadata": {
        "id": "wCVs9KmtHGg1"
      },
      "id": "wCVs9KmtHGg1"
    },
    {
      "cell_type": "markdown",
      "metadata": {
        "id": "Unluli-n5Gy8"
      },
      "source": [
        "**Creating an 'affinity matrix' and 'distance matrix' between each text to others**"
      ],
      "id": "Unluli-n5Gy8"
    },
    {
      "cell_type": "code",
      "execution_count": null,
      "metadata": {
        "id": "PPE3FmEwDc_q"
      },
      "outputs": [],
      "source": [
        "samp_1000 = df_sample20.sample(n=1000)\n",
        "samp_1000 = samp_1000.reset_index()"
      ],
      "id": "PPE3FmEwDc_q"
    },
    {
      "cell_type": "code",
      "execution_count": null,
      "metadata": {
        "colab": {
          "base_uri": "https://localhost:8080/"
        },
        "id": "6pAj_uRKxGit",
        "outputId": "6852e2cf-ec0c-404b-a680-6af69568b8bb"
      },
      "outputs": [
        {
          "name": "stderr",
          "output_type": "stream",
          "text": [
            "100%|██████████| 500500/500500 [1:43:13<00:00, 80.81it/s]\n"
          ]
        }
      ],
      "source": [
        "#initialize affinity matrix\n",
        "\n",
        "dist_mat =np.zeros((len(samp_1000),len(samp_1000)))\n",
        "aff_mat = np.zeros((len(samp_1000),len(samp_1000)))\n",
        "#get upper triangular metrix indices - this command will help up save running time by running on only one loop instead of two - really significant in Python\n",
        "arr=np.triu_indices(len(dist_mat))\n",
        "#calculate only for upper triangular matrix and then apply symmetry\n",
        "for j in tqdm(range(len(arr[0]))):\n",
        "  if arr[0][j] == arr[1][j]:\n",
        "    #the diagonal is 0 of course\n",
        "    dist_mat[arr[0][j]][arr[1][j]] = 0 \n",
        "    aff_mat[arr[0][j]][arr[1][j]] = 0\n",
        "    continue\n",
        "  else:\n",
        "    dist_mat[arr[0][j]][arr[1][j]] = BCN(samp_1000.iloc[arr[0][j]].text,samp_1000.iloc[arr[1][j]].text)\n",
        "    aff_mat[arr[0][j]][arr[1][j]] = NCD(samp_1000.iloc[arr[0][j]].text,samp_1000.iloc[arr[1][j]].text)\n",
        "\n",
        "  dist_mat[arr[1][j]][arr[0][j]] = dist_mat[arr[0][j]][arr[1][j]]\n",
        "  aff_mat[arr[1][j]][arr[0][j]] = aff_mat[arr[0][j]][arr[1][j]]\n",
        "with open('dist_matrix.pickle', 'wb') as f:\n",
        "  pickle.dump(dist_mat, f)\n",
        "f.close()\n",
        "with open('aff_matrix.pickle', 'wb') as f:\n",
        "  pickle.dump(aff_mat, f)\n",
        "f.close()\n",
        "samp_1000.to_csv('samp_1000.csv')"
      ],
      "id": "6pAj_uRKxGit"
    },
    {
      "cell_type": "code",
      "execution_count": null,
      "metadata": {
        "id": "-y_-tBxvj9gq"
      },
      "outputs": [],
      "source": [
        "#load pre-computed files and 1000 samples dataframe:\n",
        "samp_1000 = pd.read_csv('samp_1000.csv').drop(labels=['Unnamed: 0'],axis=1)\n",
        "with open('aff_matrix.pickle', \"rb\") as f:\n",
        "  aff_mat = pickle.load(f)\n",
        "f.close()\n",
        "with open('dist_matrix.pickle', \"rb\") as f:\n",
        "  dist_mat = pickle.load(f)\n",
        "f.close()"
      ],
      "id": "-y_-tBxvj9gq"
    },
    {
      "cell_type": "code",
      "execution_count": null,
      "metadata": {
        "colab": {
          "base_uri": "https://localhost:8080/",
          "height": 423
        },
        "id": "YStsq5ih7hc6",
        "outputId": "4b15e8ac-9770-4ea0-b490-cee4e7ea7633"
      },
      "outputs": [
        {
          "output_type": "execute_result",
          "data": {
            "text/plain": [
              "     index                                               text\n",
              "0    12542  Switzerland has experienced two lockdowns so f...\n",
              "1     5271  Coronavirus disease 2019 (COVID-19), first ide...\n",
              "2    17542  Severe Acute Respiratory Syndrome Coronavirus ...\n",
              "3     3877  The Development of chemically defined cell cul...\n",
              "4     5434  A high number of cluster infections have been ...\n",
              "..     ...                                                ...\n",
              "995   1256  Healthcare delivery is challenging and complex...\n",
              "996   9619  A recent report by the World Health Organizati...\n",
              "997   4661  In recent years, we have witnessed continuous ...\n",
              "998    793  The COVID-19 pandemic reflects a unique, chron...\n",
              "999   6675  A global pandemic infectious respiratory disea...\n",
              "\n",
              "[1000 rows x 2 columns]"
            ],
            "text/html": [
              "\n",
              "  <div id=\"df-e559cffc-e988-42e5-9e8b-48bc37a1756c\">\n",
              "    <div class=\"colab-df-container\">\n",
              "      <div>\n",
              "<style scoped>\n",
              "    .dataframe tbody tr th:only-of-type {\n",
              "        vertical-align: middle;\n",
              "    }\n",
              "\n",
              "    .dataframe tbody tr th {\n",
              "        vertical-align: top;\n",
              "    }\n",
              "\n",
              "    .dataframe thead th {\n",
              "        text-align: right;\n",
              "    }\n",
              "</style>\n",
              "<table border=\"1\" class=\"dataframe\">\n",
              "  <thead>\n",
              "    <tr style=\"text-align: right;\">\n",
              "      <th></th>\n",
              "      <th>index</th>\n",
              "      <th>text</th>\n",
              "    </tr>\n",
              "  </thead>\n",
              "  <tbody>\n",
              "    <tr>\n",
              "      <th>0</th>\n",
              "      <td>12542</td>\n",
              "      <td>Switzerland has experienced two lockdowns so f...</td>\n",
              "    </tr>\n",
              "    <tr>\n",
              "      <th>1</th>\n",
              "      <td>5271</td>\n",
              "      <td>Coronavirus disease 2019 (COVID-19), first ide...</td>\n",
              "    </tr>\n",
              "    <tr>\n",
              "      <th>2</th>\n",
              "      <td>17542</td>\n",
              "      <td>Severe Acute Respiratory Syndrome Coronavirus ...</td>\n",
              "    </tr>\n",
              "    <tr>\n",
              "      <th>3</th>\n",
              "      <td>3877</td>\n",
              "      <td>The Development of chemically defined cell cul...</td>\n",
              "    </tr>\n",
              "    <tr>\n",
              "      <th>4</th>\n",
              "      <td>5434</td>\n",
              "      <td>A high number of cluster infections have been ...</td>\n",
              "    </tr>\n",
              "    <tr>\n",
              "      <th>...</th>\n",
              "      <td>...</td>\n",
              "      <td>...</td>\n",
              "    </tr>\n",
              "    <tr>\n",
              "      <th>995</th>\n",
              "      <td>1256</td>\n",
              "      <td>Healthcare delivery is challenging and complex...</td>\n",
              "    </tr>\n",
              "    <tr>\n",
              "      <th>996</th>\n",
              "      <td>9619</td>\n",
              "      <td>A recent report by the World Health Organizati...</td>\n",
              "    </tr>\n",
              "    <tr>\n",
              "      <th>997</th>\n",
              "      <td>4661</td>\n",
              "      <td>In recent years, we have witnessed continuous ...</td>\n",
              "    </tr>\n",
              "    <tr>\n",
              "      <th>998</th>\n",
              "      <td>793</td>\n",
              "      <td>The COVID-19 pandemic reflects a unique, chron...</td>\n",
              "    </tr>\n",
              "    <tr>\n",
              "      <th>999</th>\n",
              "      <td>6675</td>\n",
              "      <td>A global pandemic infectious respiratory disea...</td>\n",
              "    </tr>\n",
              "  </tbody>\n",
              "</table>\n",
              "<p>1000 rows × 2 columns</p>\n",
              "</div>\n",
              "      <button class=\"colab-df-convert\" onclick=\"convertToInteractive('df-e559cffc-e988-42e5-9e8b-48bc37a1756c')\"\n",
              "              title=\"Convert this dataframe to an interactive table.\"\n",
              "              style=\"display:none;\">\n",
              "        \n",
              "  <svg xmlns=\"http://www.w3.org/2000/svg\" height=\"24px\"viewBox=\"0 0 24 24\"\n",
              "       width=\"24px\">\n",
              "    <path d=\"M0 0h24v24H0V0z\" fill=\"none\"/>\n",
              "    <path d=\"M18.56 5.44l.94 2.06.94-2.06 2.06-.94-2.06-.94-.94-2.06-.94 2.06-2.06.94zm-11 1L8.5 8.5l.94-2.06 2.06-.94-2.06-.94L8.5 2.5l-.94 2.06-2.06.94zm10 10l.94 2.06.94-2.06 2.06-.94-2.06-.94-.94-2.06-.94 2.06-2.06.94z\"/><path d=\"M17.41 7.96l-1.37-1.37c-.4-.4-.92-.59-1.43-.59-.52 0-1.04.2-1.43.59L10.3 9.45l-7.72 7.72c-.78.78-.78 2.05 0 2.83L4 21.41c.39.39.9.59 1.41.59.51 0 1.02-.2 1.41-.59l7.78-7.78 2.81-2.81c.8-.78.8-2.07 0-2.86zM5.41 20L4 18.59l7.72-7.72 1.47 1.35L5.41 20z\"/>\n",
              "  </svg>\n",
              "      </button>\n",
              "      \n",
              "  <style>\n",
              "    .colab-df-container {\n",
              "      display:flex;\n",
              "      flex-wrap:wrap;\n",
              "      gap: 12px;\n",
              "    }\n",
              "\n",
              "    .colab-df-convert {\n",
              "      background-color: #E8F0FE;\n",
              "      border: none;\n",
              "      border-radius: 50%;\n",
              "      cursor: pointer;\n",
              "      display: none;\n",
              "      fill: #1967D2;\n",
              "      height: 32px;\n",
              "      padding: 0 0 0 0;\n",
              "      width: 32px;\n",
              "    }\n",
              "\n",
              "    .colab-df-convert:hover {\n",
              "      background-color: #E2EBFA;\n",
              "      box-shadow: 0px 1px 2px rgba(60, 64, 67, 0.3), 0px 1px 3px 1px rgba(60, 64, 67, 0.15);\n",
              "      fill: #174EA6;\n",
              "    }\n",
              "\n",
              "    [theme=dark] .colab-df-convert {\n",
              "      background-color: #3B4455;\n",
              "      fill: #D2E3FC;\n",
              "    }\n",
              "\n",
              "    [theme=dark] .colab-df-convert:hover {\n",
              "      background-color: #434B5C;\n",
              "      box-shadow: 0px 1px 3px 1px rgba(0, 0, 0, 0.15);\n",
              "      filter: drop-shadow(0px 1px 2px rgba(0, 0, 0, 0.3));\n",
              "      fill: #FFFFFF;\n",
              "    }\n",
              "  </style>\n",
              "\n",
              "      <script>\n",
              "        const buttonEl =\n",
              "          document.querySelector('#df-e559cffc-e988-42e5-9e8b-48bc37a1756c button.colab-df-convert');\n",
              "        buttonEl.style.display =\n",
              "          google.colab.kernel.accessAllowed ? 'block' : 'none';\n",
              "\n",
              "        async function convertToInteractive(key) {\n",
              "          const element = document.querySelector('#df-e559cffc-e988-42e5-9e8b-48bc37a1756c');\n",
              "          const dataTable =\n",
              "            await google.colab.kernel.invokeFunction('convertToInteractive',\n",
              "                                                     [key], {});\n",
              "          if (!dataTable) return;\n",
              "\n",
              "          const docLinkHtml = 'Like what you see? Visit the ' +\n",
              "            '<a target=\"_blank\" href=https://colab.research.google.com/notebooks/data_table.ipynb>data table notebook</a>'\n",
              "            + ' to learn more about interactive tables.';\n",
              "          element.innerHTML = '';\n",
              "          dataTable['output_type'] = 'display_data';\n",
              "          await google.colab.output.renderOutput(dataTable, element);\n",
              "          const docLink = document.createElement('div');\n",
              "          docLink.innerHTML = docLinkHtml;\n",
              "          element.appendChild(docLink);\n",
              "        }\n",
              "      </script>\n",
              "    </div>\n",
              "  </div>\n",
              "  "
            ]
          },
          "metadata": {},
          "execution_count": 6
        }
      ],
      "source": [
        "samp_1000"
      ],
      "id": "YStsq5ih7hc6"
    },
    {
      "cell_type": "markdown",
      "metadata": {
        "id": "eVkF0lOglvQD"
      },
      "source": [
        "sanity check to see if the compressed affinity matrix matches to papers"
      ],
      "id": "eVkF0lOglvQD"
    },
    {
      "cell_type": "code",
      "execution_count": null,
      "metadata": {
        "id": "kfD4leY2e-pa"
      },
      "outputs": [],
      "source": [
        "assert aff_mat[110][3] == NCD(samp_1000.iloc[3].text,samp_1000.iloc[110].text)\n",
        "assert aff_mat[6][17] == NCD(samp_1000.iloc[6].text,samp_1000.iloc[17].text)\n",
        "assert dist_mat[110][3] == BCN(samp_1000.iloc[3].text,samp_1000.iloc[110].text)\n",
        "assert dist_mat[6][17] == BCN(samp_1000.iloc[6].text,samp_1000.iloc[17].text)"
      ],
      "id": "kfD4leY2e-pa"
    },
    {
      "cell_type": "markdown",
      "metadata": {
        "id": "P9wn_SjoBhKM"
      },
      "source": [
        "##Clustering"
      ],
      "id": "P9wn_SjoBhKM"
    },
    {
      "cell_type": "code",
      "execution_count": null,
      "metadata": {
        "id": "-cchBDNRBjH2"
      },
      "outputs": [],
      "source": [
        "from sklearn.cluster import AgglomerativeClustering \n",
        "from scipy.spatial import distance_matrix\n",
        "from scipy.cluster import hierarchy\n",
        "from scipy.spatial.distance import squareform\n",
        "from sklearn import metrics"
      ],
      "id": "-cchBDNRBjH2"
    },
    {
      "cell_type": "code",
      "execution_count": null,
      "metadata": {
        "id": "AxaTuYeUBTkr"
      },
      "outputs": [],
      "source": [
        "condensed_dist_matrix = squareform(dist_mat)\n",
        "condensed_aff_matrix = squareform(aff_mat)"
      ],
      "id": "AxaTuYeUBTkr"
    },
    {
      "cell_type": "code",
      "execution_count": null,
      "metadata": {
        "colab": {
          "base_uri": "https://localhost:8080/",
          "height": 618
        },
        "id": "6LkXxPyqN0sp",
        "outputId": "2d2636f7-c0c2-4cb5-e042-69abe4296a1b"
      },
      "outputs": [
        {
          "output_type": "display_data",
          "data": {
            "text/plain": [
              "<Figure size 1800x720 with 1 Axes>"
            ],
            "image/png": "[encoded data removed]"
          },
          "metadata": {
            "needs_background": "light"
          }
        }
      ],
      "source": [
        "Zaff = hierarchy.linkage(condensed_aff_matrix, method='ward')\n",
        "fig = plt.figure(figsize=(25, 10))\n",
        "dn = hierarchy.dendrogram(Zaff)\n",
        "plt.axhline(y=1.6, color='teal', linestyle='--')\n",
        "plt.title(\"Hierarchical Clustering Dendrogram For Affinity matrix\",fontsize = 20)\n",
        "plt.xlabel(\"Clustered Nodes\",fontsize = 20)\n",
        "plt.xticks([])\n",
        "plt.text(s='Decided Threshold',x= 4000,y=1.7,fontsize=18,color = 'teal')\n",
        "plt.show()"
      ],
      "id": "6LkXxPyqN0sp"
    },
    {
      "cell_type": "code",
      "execution_count": null,
      "metadata": {
        "colab": {
          "base_uri": "https://localhost:8080/",
          "height": 618
        },
        "id": "pjLr_G1fVhPA",
        "outputId": "1f20a8ae-995c-47e2-ada8-058aef3f1f78"
      },
      "outputs": [
        {
          "output_type": "display_data",
          "data": {
            "text/plain": [
              "<Figure size 1800x720 with 1 Axes>"
            ],
            "image/png": "[encoded data removed]"
          },
          "metadata": {
            "needs_background": "light"
          }
        }
      ],
      "source": [
        "Zdist = hierarchy.linkage(condensed_dist_matrix, method='complete')\n",
        "hierarchy.set_link_color_palette(list(sns.color_palette(\"Paired\").as_hex()))\n",
        "fig = plt.figure(figsize=(25, 10))\n",
        "dn = hierarchy.dendrogram(Zdist)\n",
        "plt.title(\"Hierarchical Clustering Dendrogram For Distance matrix\",fontsize = 20)\n",
        "plt.xlabel(\"Clustered Nodes\",fontsize = 20)\n",
        "plt.xticks([])\n",
        "plt.text(s='Decided Threshold',x= 5000,y=25100,fontsize=15,color = 'red')\n",
        "plt.axhline(y=27000, color='r', linestyle='--')\n",
        "hierarchy.set_link_color_palette(None)\n",
        "plt.show()"
      ],
      "id": "pjLr_G1fVhPA"
    },
    {
      "cell_type": "code",
      "execution_count": null,
      "metadata": {
        "colab": {
          "base_uri": "https://localhost:8080/"
        },
        "id": "UA6LXVgJGeuJ",
        "outputId": "39939d27-baa2-4890-f3af-eb6c50b14fe4"
      },
      "outputs": [
        {
          "output_type": "execute_result",
          "data": {
            "text/plain": [
              "(8, 1)"
            ]
          },
          "metadata": {},
          "execution_count": 14
        }
      ],
      "source": [
        "labels = hierarchy.fcluster(Zaff, t=1.6, criterion='distance') # for affinity matrix and ward method\n",
        "# labels = hierarchy.fcluster(Zdist, t=27000, criterion='distance') # for distance matrix and complete method\n",
        "print(f\"Number of Clusters in Distance Dendogram: {np.unique(hierarchy.fcluster(Zaff, t=1.6, criterion='distance')).shape[0]}\")\n",
        "print(f\"Number of Clusters in Affinity Dendogram: {np.unique(hierarchy.fcluster(Zdist, t=27000, criterion='distance')).shape[0]}\")\n",
        "labels.max(),labels.min()"
      ],
      "id": "UA6LXVgJGeuJ"
    },
    {
      "cell_type": "markdown",
      "source": [
        "**Save Labels to Dataframe so we assign each sample to a cluster**"
      ],
      "metadata": {
        "id": "I6GV0v2u6edp"
      },
      "id": "I6GV0v2u6edp"
    },
    {
      "cell_type": "code",
      "execution_count": null,
      "metadata": {
        "colab": {
          "base_uri": "https://localhost:8080/",
          "height": 206
        },
        "id": "kRPJt8E0Zv2T",
        "outputId": "32555106-91c3-48d6-9d4b-76724b52de15"
      },
      "outputs": [
        {
          "output_type": "execute_result",
          "data": {
            "text/plain": [
              "   index                                               text  labels\n",
              "0  12542  Switzerland has experienced two lockdowns so f...       8\n",
              "1   5271  Coronavirus disease 2019 (COVID-19), first ide...       4\n",
              "2  17542  Severe Acute Respiratory Syndrome Coronavirus ...       2\n",
              "3   3877  The Development of chemically defined cell cul...       3\n",
              "4   5434  A high number of cluster infections have been ...       6"
            ],
            "text/html": [
              "\n",
              "  <div id=\"df-bc3b9765-6478-4769-be24-367976d5482c\">\n",
              "    <div class=\"colab-df-container\">\n",
              "      <div>\n",
              "<style scoped>\n",
              "    .dataframe tbody tr th:only-of-type {\n",
              "        vertical-align: middle;\n",
              "    }\n",
              "\n",
              "    .dataframe tbody tr th {\n",
              "        vertical-align: top;\n",
              "    }\n",
              "\n",
              "    .dataframe thead th {\n",
              "        text-align: right;\n",
              "    }\n",
              "</style>\n",
              "<table border=\"1\" class=\"dataframe\">\n",
              "  <thead>\n",
              "    <tr style=\"text-align: right;\">\n",
              "      <th></th>\n",
              "      <th>index</th>\n",
              "      <th>text</th>\n",
              "      <th>labels</th>\n",
              "    </tr>\n",
              "  </thead>\n",
              "  <tbody>\n",
              "    <tr>\n",
              "      <th>0</th>\n",
              "      <td>12542</td>\n",
              "      <td>Switzerland has experienced two lockdowns so f...</td>\n",
              "      <td>8</td>\n",
              "    </tr>\n",
              "    <tr>\n",
              "      <th>1</th>\n",
              "      <td>5271</td>\n",
              "      <td>Coronavirus disease 2019 (COVID-19), first ide...</td>\n",
              "      <td>4</td>\n",
              "    </tr>\n",
              "    <tr>\n",
              "      <th>2</th>\n",
              "      <td>17542</td>\n",
              "      <td>Severe Acute Respiratory Syndrome Coronavirus ...</td>\n",
              "      <td>2</td>\n",
              "    </tr>\n",
              "    <tr>\n",
              "      <th>3</th>\n",
              "      <td>3877</td>\n",
              "      <td>The Development of chemically defined cell cul...</td>\n",
              "      <td>3</td>\n",
              "    </tr>\n",
              "    <tr>\n",
              "      <th>4</th>\n",
              "      <td>5434</td>\n",
              "      <td>A high number of cluster infections have been ...</td>\n",
              "      <td>6</td>\n",
              "    </tr>\n",
              "  </tbody>\n",
              "</table>\n",
              "</div>\n",
              "      <button class=\"colab-df-convert\" onclick=\"convertToInteractive('df-bc3b9765-6478-4769-be24-367976d5482c')\"\n",
              "              title=\"Convert this dataframe to an interactive table.\"\n",
              "              style=\"display:none;\">\n",
              "        \n",
              "  <svg xmlns=\"http://www.w3.org/2000/svg\" height=\"24px\"viewBox=\"0 0 24 24\"\n",
              "       width=\"24px\">\n",
              "    <path d=\"M0 0h24v24H0V0z\" fill=\"none\"/>\n",
              "    <path d=\"M18.56 5.44l.94 2.06.94-2.06 2.06-.94-2.06-.94-.94-2.06-.94 2.06-2.06.94zm-11 1L8.5 8.5l.94-2.06 2.06-.94-2.06-.94L8.5 2.5l-.94 2.06-2.06.94zm10 10l.94 2.06.94-2.06 2.06-.94-2.06-.94-.94-2.06-.94 2.06-2.06.94z\"/><path d=\"M17.41 7.96l-1.37-1.37c-.4-.4-.92-.59-1.43-.59-.52 0-1.04.2-1.43.59L10.3 9.45l-7.72 7.72c-.78.78-.78 2.05 0 2.83L4 21.41c.39.39.9.59 1.41.59.51 0 1.02-.2 1.41-.59l7.78-7.78 2.81-2.81c.8-.78.8-2.07 0-2.86zM5.41 20L4 18.59l7.72-7.72 1.47 1.35L5.41 20z\"/>\n",
              "  </svg>\n",
              "      </button>\n",
              "      \n",
              "  <style>\n",
              "    .colab-df-container {\n",
              "      display:flex;\n",
              "      flex-wrap:wrap;\n",
              "      gap: 12px;\n",
              "    }\n",
              "\n",
              "    .colab-df-convert {\n",
              "      background-color: #E8F0FE;\n",
              "      border: none;\n",
              "      border-radius: 50%;\n",
              "      cursor: pointer;\n",
              "      display: none;\n",
              "      fill: #1967D2;\n",
              "      height: 32px;\n",
              "      padding: 0 0 0 0;\n",
              "      width: 32px;\n",
              "    }\n",
              "\n",
              "    .colab-df-convert:hover {\n",
              "      background-color: #E2EBFA;\n",
              "      box-shadow: 0px 1px 2px rgba(60, 64, 67, 0.3), 0px 1px 3px 1px rgba(60, 64, 67, 0.15);\n",
              "      fill: #174EA6;\n",
              "    }\n",
              "\n",
              "    [theme=dark] .colab-df-convert {\n",
              "      background-color: #3B4455;\n",
              "      fill: #D2E3FC;\n",
              "    }\n",
              "\n",
              "    [theme=dark] .colab-df-convert:hover {\n",
              "      background-color: #434B5C;\n",
              "      box-shadow: 0px 1px 3px 1px rgba(0, 0, 0, 0.15);\n",
              "      filter: drop-shadow(0px 1px 2px rgba(0, 0, 0, 0.3));\n",
              "      fill: #FFFFFF;\n",
              "    }\n",
              "  </style>\n",
              "\n",
              "      <script>\n",
              "        const buttonEl =\n",
              "          document.querySelector('#df-bc3b9765-6478-4769-be24-367976d5482c button.colab-df-convert');\n",
              "        buttonEl.style.display =\n",
              "          google.colab.kernel.accessAllowed ? 'block' : 'none';\n",
              "\n",
              "        async function convertToInteractive(key) {\n",
              "          const element = document.querySelector('#df-bc3b9765-6478-4769-be24-367976d5482c');\n",
              "          const dataTable =\n",
              "            await google.colab.kernel.invokeFunction('convertToInteractive',\n",
              "                                                     [key], {});\n",
              "          if (!dataTable) return;\n",
              "\n",
              "          const docLinkHtml = 'Like what you see? Visit the ' +\n",
              "            '<a target=\"_blank\" href=https://colab.research.google.com/notebooks/data_table.ipynb>data table notebook</a>'\n",
              "            + ' to learn more about interactive tables.';\n",
              "          element.innerHTML = '';\n",
              "          dataTable['output_type'] = 'display_data';\n",
              "          await google.colab.output.renderOutput(dataTable, element);\n",
              "          const docLink = document.createElement('div');\n",
              "          docLink.innerHTML = docLinkHtml;\n",
              "          element.appendChild(docLink);\n",
              "        }\n",
              "      </script>\n",
              "    </div>\n",
              "  </div>\n",
              "  "
            ]
          },
          "metadata": {},
          "execution_count": 40
        }
      ],
      "source": [
        "samp_1000['labels'] = labels\n",
        "samp_1000.to_csv('samp_1000_labeled.csv')\n",
        "samp_1000.head()"
      ],
      "id": "kRPJt8E0Zv2T"
    },
    {
      "cell_type": "code",
      "execution_count": null,
      "metadata": {
        "colab": {
          "base_uri": "https://localhost:8080/",
          "height": 363
        },
        "id": "uWm9IGfBqtkt",
        "outputId": "b6728f40-36ef-4d98-e75a-e54d873916bb"
      },
      "outputs": [
        {
          "output_type": "execute_result",
          "data": {
            "text/plain": [
              "   sample_1000_index  index  \\\n",
              "0                191  14340   \n",
              "1                959  15960   \n",
              "2                459   4778   \n",
              "3                652  13614   \n",
              "4                469   6816   \n",
              "5                360   9549   \n",
              "6                487   8971   \n",
              "7                732  11877   \n",
              "8                189   6757   \n",
              "9                 53  16020   \n",
              "\n",
              "                                                text  labels  \n",
              "0  Conceivably, some of the most innovative resea...       1  \n",
              "1  Due to its high strength and good mechanical p...       1  \n",
              "2  According to Global Cancer Observatory, cancer...       1  \n",
              "3  Asthma is a chronic inflammatory disease affec...       1  \n",
              "4  Acute myocardial infarction (AMI) is a conditi...       1  \n",
              "5  Acute Respiratory Distress Syndrome (ARDS), a ...       1  \n",
              "6  The 2019 Coronavirus Disease (COVID-19) pandem...       1  \n",
              "7  The COVID-19 (Coronavirus Disease 2019) pandem...       1  \n",
              "8  Malnutrition is one of the main health problem...       1  \n",
              "9  Chronic obstructive pulmonary disease (COPD) i...       1  "
            ],
            "text/html": [
              "\n",
              "  <div id=\"df-0b62aa8f-2c05-48ee-aad4-ba6f3ea13954\">\n",
              "    <div class=\"colab-df-container\">\n",
              "      <div>\n",
              "<style scoped>\n",
              "    .dataframe tbody tr th:only-of-type {\n",
              "        vertical-align: middle;\n",
              "    }\n",
              "\n",
              "    .dataframe tbody tr th {\n",
              "        vertical-align: top;\n",
              "    }\n",
              "\n",
              "    .dataframe thead th {\n",
              "        text-align: right;\n",
              "    }\n",
              "</style>\n",
              "<table border=\"1\" class=\"dataframe\">\n",
              "  <thead>\n",
              "    <tr style=\"text-align: right;\">\n",
              "      <th></th>\n",
              "      <th>sample_1000_index</th>\n",
              "      <th>index</th>\n",
              "      <th>text</th>\n",
              "      <th>labels</th>\n",
              "    </tr>\n",
              "  </thead>\n",
              "  <tbody>\n",
              "    <tr>\n",
              "      <th>0</th>\n",
              "      <td>191</td>\n",
              "      <td>14340</td>\n",
              "      <td>Conceivably, some of the most innovative resea...</td>\n",
              "      <td>1</td>\n",
              "    </tr>\n",
              "    <tr>\n",
              "      <th>1</th>\n",
              "      <td>959</td>\n",
              "      <td>15960</td>\n",
              "      <td>Due to its high strength and good mechanical p...</td>\n",
              "      <td>1</td>\n",
              "    </tr>\n",
              "    <tr>\n",
              "      <th>2</th>\n",
              "      <td>459</td>\n",
              "      <td>4778</td>\n",
              "      <td>According to Global Cancer Observatory, cancer...</td>\n",
              "      <td>1</td>\n",
              "    </tr>\n",
              "    <tr>\n",
              "      <th>3</th>\n",
              "      <td>652</td>\n",
              "      <td>13614</td>\n",
              "      <td>Asthma is a chronic inflammatory disease affec...</td>\n",
              "      <td>1</td>\n",
              "    </tr>\n",
              "    <tr>\n",
              "      <th>4</th>\n",
              "      <td>469</td>\n",
              "      <td>6816</td>\n",
              "      <td>Acute myocardial infarction (AMI) is a conditi...</td>\n",
              "      <td>1</td>\n",
              "    </tr>\n",
              "    <tr>\n",
              "      <th>5</th>\n",
              "      <td>360</td>\n",
              "      <td>9549</td>\n",
              "      <td>Acute Respiratory Distress Syndrome (ARDS), a ...</td>\n",
              "      <td>1</td>\n",
              "    </tr>\n",
              "    <tr>\n",
              "      <th>6</th>\n",
              "      <td>487</td>\n",
              "      <td>8971</td>\n",
              "      <td>The 2019 Coronavirus Disease (COVID-19) pandem...</td>\n",
              "      <td>1</td>\n",
              "    </tr>\n",
              "    <tr>\n",
              "      <th>7</th>\n",
              "      <td>732</td>\n",
              "      <td>11877</td>\n",
              "      <td>The COVID-19 (Coronavirus Disease 2019) pandem...</td>\n",
              "      <td>1</td>\n",
              "    </tr>\n",
              "    <tr>\n",
              "      <th>8</th>\n",
              "      <td>189</td>\n",
              "      <td>6757</td>\n",
              "      <td>Malnutrition is one of the main health problem...</td>\n",
              "      <td>1</td>\n",
              "    </tr>\n",
              "    <tr>\n",
              "      <th>9</th>\n",
              "      <td>53</td>\n",
              "      <td>16020</td>\n",
              "      <td>Chronic obstructive pulmonary disease (COPD) i...</td>\n",
              "      <td>1</td>\n",
              "    </tr>\n",
              "  </tbody>\n",
              "</table>\n",
              "</div>\n",
              "      <button class=\"colab-df-convert\" onclick=\"convertToInteractive('df-0b62aa8f-2c05-48ee-aad4-ba6f3ea13954')\"\n",
              "              title=\"Convert this dataframe to an interactive table.\"\n",
              "              style=\"display:none;\">\n",
              "        \n",
              "  <svg xmlns=\"http://www.w3.org/2000/svg\" height=\"24px\"viewBox=\"0 0 24 24\"\n",
              "       width=\"24px\">\n",
              "    <path d=\"M0 0h24v24H0V0z\" fill=\"none\"/>\n",
              "    <path d=\"M18.56 5.44l.94 2.06.94-2.06 2.06-.94-2.06-.94-.94-2.06-.94 2.06-2.06.94zm-11 1L8.5 8.5l.94-2.06 2.06-.94-2.06-.94L8.5 2.5l-.94 2.06-2.06.94zm10 10l.94 2.06.94-2.06 2.06-.94-2.06-.94-.94-2.06-.94 2.06-2.06.94z\"/><path d=\"M17.41 7.96l-1.37-1.37c-.4-.4-.92-.59-1.43-.59-.52 0-1.04.2-1.43.59L10.3 9.45l-7.72 7.72c-.78.78-.78 2.05 0 2.83L4 21.41c.39.39.9.59 1.41.59.51 0 1.02-.2 1.41-.59l7.78-7.78 2.81-2.81c.8-.78.8-2.07 0-2.86zM5.41 20L4 18.59l7.72-7.72 1.47 1.35L5.41 20z\"/>\n",
              "  </svg>\n",
              "      </button>\n",
              "      \n",
              "  <style>\n",
              "    .colab-df-container {\n",
              "      display:flex;\n",
              "      flex-wrap:wrap;\n",
              "      gap: 12px;\n",
              "    }\n",
              "\n",
              "    .colab-df-convert {\n",
              "      background-color: #E8F0FE;\n",
              "      border: none;\n",
              "      border-radius: 50%;\n",
              "      cursor: pointer;\n",
              "      display: none;\n",
              "      fill: #1967D2;\n",
              "      height: 32px;\n",
              "      padding: 0 0 0 0;\n",
              "      width: 32px;\n",
              "    }\n",
              "\n",
              "    .colab-df-convert:hover {\n",
              "      background-color: #E2EBFA;\n",
              "      box-shadow: 0px 1px 2px rgba(60, 64, 67, 0.3), 0px 1px 3px 1px rgba(60, 64, 67, 0.15);\n",
              "      fill: #174EA6;\n",
              "    }\n",
              "\n",
              "    [theme=dark] .colab-df-convert {\n",
              "      background-color: #3B4455;\n",
              "      fill: #D2E3FC;\n",
              "    }\n",
              "\n",
              "    [theme=dark] .colab-df-convert:hover {\n",
              "      background-color: #434B5C;\n",
              "      box-shadow: 0px 1px 3px 1px rgba(0, 0, 0, 0.15);\n",
              "      filter: drop-shadow(0px 1px 2px rgba(0, 0, 0, 0.3));\n",
              "      fill: #FFFFFF;\n",
              "    }\n",
              "  </style>\n",
              "\n",
              "      <script>\n",
              "        const buttonEl =\n",
              "          document.querySelector('#df-0b62aa8f-2c05-48ee-aad4-ba6f3ea13954 button.colab-df-convert');\n",
              "        buttonEl.style.display =\n",
              "          google.colab.kernel.accessAllowed ? 'block' : 'none';\n",
              "\n",
              "        async function convertToInteractive(key) {\n",
              "          const element = document.querySelector('#df-0b62aa8f-2c05-48ee-aad4-ba6f3ea13954');\n",
              "          const dataTable =\n",
              "            await google.colab.kernel.invokeFunction('convertToInteractive',\n",
              "                                                     [key], {});\n",
              "          if (!dataTable) return;\n",
              "\n",
              "          const docLinkHtml = 'Like what you see? Visit the ' +\n",
              "            '<a target=\"_blank\" href=https://colab.research.google.com/notebooks/data_table.ipynb>data table notebook</a>'\n",
              "            + ' to learn more about interactive tables.';\n",
              "          element.innerHTML = '';\n",
              "          dataTable['output_type'] = 'display_data';\n",
              "          await google.colab.output.renderOutput(dataTable, element);\n",
              "          const docLink = document.createElement('div');\n",
              "          docLink.innerHTML = docLinkHtml;\n",
              "          element.appendChild(docLink);\n",
              "        }\n",
              "      </script>\n",
              "    </div>\n",
              "  </div>\n",
              "  "
            ]
          },
          "metadata": {},
          "execution_count": 273
        }
      ],
      "source": [
        "# Check some samples in one cluster. \n",
        "cluster_check_label = 1\n",
        "sample_from_cluster = samp_1000[ samp_1000.labels == cluster_check_label ].sample(n=10)\n",
        "sample_from_cluster = sample_from_cluster.reset_index()\n",
        "sample_from_cluster = sample_from_cluster.rename(columns={\"level_0\": \"sample_1000_index\"})\n",
        "sample_from_cluster"
      ],
      "id": "uWm9IGfBqtkt"
    },
    {
      "cell_type": "code",
      "source": [
        "# Get 1 sample from each cluster\n",
        "different_cluster_samples = samp_1000[ samp_1000.labels == cluster_check_label ].sample(n=1)\n",
        "for i in range(2, max(labels)+1):\n",
        "  if i != cluster_check_label:\n",
        "    different_cluster_samples = pd.concat( [different_cluster_samples, samp_1000[ samp_1000.labels == i ].sample(n=1)], axis=0)\n",
        "\n",
        "different_cluster_samples = different_cluster_samples.reset_index()\n",
        "different_cluster_samples = different_cluster_samples.rename(columns={\"level_0\": \"sample_1000_index\"})\n",
        "different_cluster_samples"
      ],
      "metadata": {
        "colab": {
          "base_uri": "https://localhost:8080/",
          "height": 300
        },
        "id": "0g9sgzDtD7BO",
        "outputId": "5d0998e6-5170-41af-ac57-02b41dc78954"
      },
      "id": "0g9sgzDtD7BO",
      "execution_count": null,
      "outputs": [
        {
          "output_type": "execute_result",
          "data": {
            "text/plain": [
              "   sample_1000_index  index  \\\n",
              "0                952  13123   \n",
              "1                988  11820   \n",
              "2                198   3632   \n",
              "3                818   9479   \n",
              "4                209  11233   \n",
              "5                446   6008   \n",
              "6                 59   9390   \n",
              "7                525   9895   \n",
              "\n",
              "                                                text  labels  \n",
              "0  Melanoma is the least common but deadliest typ...       1  \n",
              "1  The emerging Omicron Variant of Concern (VOC) ...       2  \n",
              "2  As the number of defined PIDDs increases, clas...       3  \n",
              "3  The first cases of a novel coronavirus infecti...       4  \n",
              "4  Nosocomial infection (NI) or hospital-acquired...       5  \n",
              "5  Cathelicidin is a generic name that can refer ...       6  \n",
              "6  Aging is one of the most prominent features of...       7  \n",
              "7  Viewing certain static patterns can result in ...       8  "
            ],
            "text/html": [
              "\n",
              "  <div id=\"df-286c0eec-b10b-40c5-927b-326c0ad4cee4\">\n",
              "    <div class=\"colab-df-container\">\n",
              "      <div>\n",
              "<style scoped>\n",
              "    .dataframe tbody tr th:only-of-type {\n",
              "        vertical-align: middle;\n",
              "    }\n",
              "\n",
              "    .dataframe tbody tr th {\n",
              "        vertical-align: top;\n",
              "    }\n",
              "\n",
              "    .dataframe thead th {\n",
              "        text-align: right;\n",
              "    }\n",
              "</style>\n",
              "<table border=\"1\" class=\"dataframe\">\n",
              "  <thead>\n",
              "    <tr style=\"text-align: right;\">\n",
              "      <th></th>\n",
              "      <th>sample_1000_index</th>\n",
              "      <th>index</th>\n",
              "      <th>text</th>\n",
              "      <th>labels</th>\n",
              "    </tr>\n",
              "  </thead>\n",
              "  <tbody>\n",
              "    <tr>\n",
              "      <th>0</th>\n",
              "      <td>952</td>\n",
              "      <td>13123</td>\n",
              "      <td>Melanoma is the least common but deadliest typ...</td>\n",
              "      <td>1</td>\n",
              "    </tr>\n",
              "    <tr>\n",
              "      <th>1</th>\n",
              "      <td>988</td>\n",
              "      <td>11820</td>\n",
              "      <td>The emerging Omicron Variant of Concern (VOC) ...</td>\n",
              "      <td>2</td>\n",
              "    </tr>\n",
              "    <tr>\n",
              "      <th>2</th>\n",
              "      <td>198</td>\n",
              "      <td>3632</td>\n",
              "      <td>As the number of defined PIDDs increases, clas...</td>\n",
              "      <td>3</td>\n",
              "    </tr>\n",
              "    <tr>\n",
              "      <th>3</th>\n",
              "      <td>818</td>\n",
              "      <td>9479</td>\n",
              "      <td>The first cases of a novel coronavirus infecti...</td>\n",
              "      <td>4</td>\n",
              "    </tr>\n",
              "    <tr>\n",
              "      <th>4</th>\n",
              "      <td>209</td>\n",
              "      <td>11233</td>\n",
              "      <td>Nosocomial infection (NI) or hospital-acquired...</td>\n",
              "      <td>5</td>\n",
              "    </tr>\n",
              "    <tr>\n",
              "      <th>5</th>\n",
              "      <td>446</td>\n",
              "      <td>6008</td>\n",
              "      <td>Cathelicidin is a generic name that can refer ...</td>\n",
              "      <td>6</td>\n",
              "    </tr>\n",
              "    <tr>\n",
              "      <th>6</th>\n",
              "      <td>59</td>\n",
              "      <td>9390</td>\n",
              "      <td>Aging is one of the most prominent features of...</td>\n",
              "      <td>7</td>\n",
              "    </tr>\n",
              "    <tr>\n",
              "      <th>7</th>\n",
              "      <td>525</td>\n",
              "      <td>9895</td>\n",
              "      <td>Viewing certain static patterns can result in ...</td>\n",
              "      <td>8</td>\n",
              "    </tr>\n",
              "  </tbody>\n",
              "</table>\n",
              "</div>\n",
              "      <button class=\"colab-df-convert\" onclick=\"convertToInteractive('df-286c0eec-b10b-40c5-927b-326c0ad4cee4')\"\n",
              "              title=\"Convert this dataframe to an interactive table.\"\n",
              "              style=\"display:none;\">\n",
              "        \n",
              "  <svg xmlns=\"http://www.w3.org/2000/svg\" height=\"24px\"viewBox=\"0 0 24 24\"\n",
              "       width=\"24px\">\n",
              "    <path d=\"M0 0h24v24H0V0z\" fill=\"none\"/>\n",
              "    <path d=\"M18.56 5.44l.94 2.06.94-2.06 2.06-.94-2.06-.94-.94-2.06-.94 2.06-2.06.94zm-11 1L8.5 8.5l.94-2.06 2.06-.94-2.06-.94L8.5 2.5l-.94 2.06-2.06.94zm10 10l.94 2.06.94-2.06 2.06-.94-2.06-.94-.94-2.06-.94 2.06-2.06.94z\"/><path d=\"M17.41 7.96l-1.37-1.37c-.4-.4-.92-.59-1.43-.59-.52 0-1.04.2-1.43.59L10.3 9.45l-7.72 7.72c-.78.78-.78 2.05 0 2.83L4 21.41c.39.39.9.59 1.41.59.51 0 1.02-.2 1.41-.59l7.78-7.78 2.81-2.81c.8-.78.8-2.07 0-2.86zM5.41 20L4 18.59l7.72-7.72 1.47 1.35L5.41 20z\"/>\n",
              "  </svg>\n",
              "      </button>\n",
              "      \n",
              "  <style>\n",
              "    .colab-df-container {\n",
              "      display:flex;\n",
              "      flex-wrap:wrap;\n",
              "      gap: 12px;\n",
              "    }\n",
              "\n",
              "    .colab-df-convert {\n",
              "      background-color: #E8F0FE;\n",
              "      border: none;\n",
              "      border-radius: 50%;\n",
              "      cursor: pointer;\n",
              "      display: none;\n",
              "      fill: #1967D2;\n",
              "      height: 32px;\n",
              "      padding: 0 0 0 0;\n",
              "      width: 32px;\n",
              "    }\n",
              "\n",
              "    .colab-df-convert:hover {\n",
              "      background-color: #E2EBFA;\n",
              "      box-shadow: 0px 1px 2px rgba(60, 64, 67, 0.3), 0px 1px 3px 1px rgba(60, 64, 67, 0.15);\n",
              "      fill: #174EA6;\n",
              "    }\n",
              "\n",
              "    [theme=dark] .colab-df-convert {\n",
              "      background-color: #3B4455;\n",
              "      fill: #D2E3FC;\n",
              "    }\n",
              "\n",
              "    [theme=dark] .colab-df-convert:hover {\n",
              "      background-color: #434B5C;\n",
              "      box-shadow: 0px 1px 3px 1px rgba(0, 0, 0, 0.15);\n",
              "      filter: drop-shadow(0px 1px 2px rgba(0, 0, 0, 0.3));\n",
              "      fill: #FFFFFF;\n",
              "    }\n",
              "  </style>\n",
              "\n",
              "      <script>\n",
              "        const buttonEl =\n",
              "          document.querySelector('#df-286c0eec-b10b-40c5-927b-326c0ad4cee4 button.colab-df-convert');\n",
              "        buttonEl.style.display =\n",
              "          google.colab.kernel.accessAllowed ? 'block' : 'none';\n",
              "\n",
              "        async function convertToInteractive(key) {\n",
              "          const element = document.querySelector('#df-286c0eec-b10b-40c5-927b-326c0ad4cee4');\n",
              "          const dataTable =\n",
              "            await google.colab.kernel.invokeFunction('convertToInteractive',\n",
              "                                                     [key], {});\n",
              "          if (!dataTable) return;\n",
              "\n",
              "          const docLinkHtml = 'Like what you see? Visit the ' +\n",
              "            '<a target=\"_blank\" href=https://colab.research.google.com/notebooks/data_table.ipynb>data table notebook</a>'\n",
              "            + ' to learn more about interactive tables.';\n",
              "          element.innerHTML = '';\n",
              "          dataTable['output_type'] = 'display_data';\n",
              "          await google.colab.output.renderOutput(dataTable, element);\n",
              "          const docLink = document.createElement('div');\n",
              "          docLink.innerHTML = docLinkHtml;\n",
              "          element.appendChild(docLink);\n",
              "        }\n",
              "      </script>\n",
              "    </div>\n",
              "  </div>\n",
              "  "
            ]
          },
          "metadata": {},
          "execution_count": 274
        }
      ]
    },
    {
      "cell_type": "markdown",
      "source": [
        "**We take one sample and analyze it agains all clusters by considering its distance and similarity**"
      ],
      "metadata": {
        "id": "SNTV_QnH-ctE"
      },
      "id": "SNTV_QnH-ctE"
    },
    {
      "cell_type": "code",
      "source": [
        "sample_to_analyse = samp_1000[ samp_1000.labels == cluster_check_label ].sample(n=1)\n",
        "sample_to_analyse = sample_to_analyse.reset_index()\n",
        "sample_to_analyse = sample_to_analyse.rename(columns={\"level_0\": \"sample_1000_index\"})\n",
        "\n",
        "dist_to_each_cluster = {}\n",
        "aff_to_each_cluster = {}\n",
        "for i in range(samp_1000.shape[0]):\n",
        "  distance = dist_mat[ sample_to_analyse['sample_1000_index'][0], samp_1000.index[i] ]\n",
        "  affinity = aff_mat[ sample_to_analyse['sample_1000_index'][0], samp_1000.index[i] ]\n",
        "  if samp_1000['labels'][i] in dist_to_each_cluster.keys():\n",
        "    dist_to_each_cluster[samp_1000['labels'][i]].append(distance)\n",
        "    aff_to_each_cluster[samp_1000['labels'][i]].append(affinity)\n",
        "  else:\n",
        "      dist_to_each_cluster[samp_1000['labels'][i]] = [distance]\n",
        "      aff_to_each_cluster[samp_1000['labels'][i]] = [affinity]"
      ],
      "metadata": {
        "id": "p1n3Y-e9qZ6N"
      },
      "id": "p1n3Y-e9qZ6N",
      "execution_count": null,
      "outputs": []
    },
    {
      "cell_type": "code",
      "source": [
        "colors = ['r','g','b','c','m','y','k','r']\n",
        "\n",
        "#distance\n",
        "i = 1\n",
        "for k in dist_to_each_cluster.keys() :\n",
        "  plt.plot(np.asarray(dist_to_each_cluster[k]), np.zeros_like(dist_to_each_cluster[k])+i, 'x', color = colors[i-1])\n",
        "  i += 1\n",
        "plt.title\n",
        "plt.ylim([0.5, 8.5])\n",
        "plt.title('Chosen sample compared (by distance) to all samples grouped by cluster')\n",
        "plt.show()\n",
        "\n",
        "#Affinity\n",
        "i = 1\n",
        "for k in dist_to_each_cluster.keys() :\n",
        "  plt.plot(np.asarray(aff_to_each_cluster[k]), np.zeros_like(aff_to_each_cluster[k])+i, 'x', color = colors[i-1])\n",
        "  i += 1\n",
        "\n",
        "plt.ylim([0.5, 8.5])\n",
        "plt.xlim([0.9, 1])\n",
        "plt.title('Chosen sample compared (by similarity) to all samples grouped by cluster')\n",
        "plt.show()"
      ],
      "metadata": {
        "colab": {
          "base_uri": "https://localhost:8080/",
          "height": 544
        },
        "id": "2WAX8MRqs4eA",
        "outputId": "11f49c3b-f1c2-4e7d-eef8-a263db2a1bf4"
      },
      "id": "2WAX8MRqs4eA",
      "execution_count": null,
      "outputs": [
        {
          "output_type": "display_data",
          "data": {
            "text/plain": [
              "<Figure size 432x288 with 1 Axes>"
            ],
            "image/png": "[encoded data removed]"
          },
          "metadata": {
            "needs_background": "light"
          }
        },
        {
          "output_type": "display_data",
          "data": {
            "text/plain": [
              "<Figure size 432x288 with 1 Axes>"
            ],
            "image/png": "[encoded data removed]"
          },
          "metadata": {
            "needs_background": "light"
          }
        }
      ]
    },
    {
      "cell_type": "markdown",
      "source": [
        "**We take some samples of one cluster to check their titles and compare**"
      ],
      "metadata": {
        "id": "cqj8aHaK-oDN"
      },
      "id": "cqj8aHaK-oDN"
    },
    {
      "cell_type": "code",
      "source": [
        "#- check they have similar titles\n",
        "\n",
        "cluster_sample_text_list = []\n",
        "for i in range(sample_from_cluster.shape[0]):\n",
        "  title = df_sample20.iloc[ sample_from_cluster['index'][i]]['title']\n",
        "  text = df_sample20.iloc[ sample_from_cluster['index'][i]]['text']\n",
        "  print('Title ', i, ': ', title )\n",
        "  cluster4_sample_text_list.append(text)\n"
      ],
      "metadata": {
        "colab": {
          "base_uri": "https://localhost:8080/"
        },
        "id": "4RKgs-ErMmau",
        "outputId": "500c31f3-51ef-491d-9f52-d3a61f21eece"
      },
      "id": "4RKgs-ErMmau",
      "execution_count": null,
      "outputs": [
        {
          "output_type": "stream",
          "name": "stdout",
          "text": [
            "Title  0 :  Denaturation of the SARS-CoV-2 spike protein under non-thermal microwave radiation\n",
            "Title  1 :  Effect of Heat Treatment on Residual Stress of Cold Sprayed Nickel-based Superalloys\n",
            "Title  2 :  Safety, Stability, and Therapeutic Efficacy of Long-Circulating TQ-Incorporated Liposomes: Implication in the Treatment of Lung Cancer\n",
            "Title  3 :  Imiquimod Boosts Interferon Response, and Decreases ACE2 and Pro-Inflammatory Response of Human Bronchial Epithelium in Asthma\n",
            "Title  4 :  Protective Effects of Allicin on Acute Myocardial Infarction in Rats via Hydrogen Sulfide-mediated Regulation of Coronary Arterial Vasomotor Function and Myocardial Calcium Transport\n",
            "Title  5 :  Acute Respiratory Distress Syndrome and COVID-19: A Literature Review\n",
            "Title  6 :  Epidemiological Characteristics of Hospitalized Patients with Moderate versus Severe COVID-19 Infection: A Retrospective Cohort Single Centre Study\n",
            "Title  7 :  Vascular Damage, Thromboinflammation, Plasmablast Activation, T-Cell Dysregulation and Pathological Histiocytic Response in Pulmonary Draining Lymph Nodes of COVID-19\n",
            "Title  8 :  Development of Carrot Nutraceutical Products as an Alternative Supplement for the Prevention of Nutritional Diseases\n",
            "Title  9 :  A Novel Curcumin-Based Drug Powder Inhalation Medicine for Chronic Obstructive Pulmonary Disease\n"
          ]
        }
      ]
    },
    {
      "cell_type": "markdown",
      "source": [
        "At a glance, we could say that the topics they talk are related to “heat” and “studies about treatments”."
      ],
      "metadata": {
        "id": "_2C6RQ60QJNl"
      },
      "id": "_2C6RQ60QJNl"
    },
    {
      "cell_type": "markdown",
      "source": [
        "**We take all texts from each cluster and obtain the most relevant words**"
      ],
      "metadata": {
        "id": "A2PniWFI-x_m"
      },
      "id": "A2PniWFI-x_m"
    },
    {
      "cell_type": "code",
      "source": [
        "from sklearn.feature_extraction.text import TfidfVectorizer, CountVectorizer\n",
        "def tfidf_words(text,n_top=25,by='title'):\n",
        "\n",
        "  tfidf_vectorizer = TfidfVectorizer(max_df=0.95, min_df=2, max_features=100, stop_words='english')\n",
        "  tfidf = tfidf_vectorizer.fit_transform(text)\n",
        "\n",
        "  # sort by importance\n",
        "  importance = np.argsort(np.asarray(tfidf.sum(axis=0)).ravel())[::-1]\n",
        "\n",
        "  # get words\n",
        "  tfidf_feature_names = np.array(tfidf_vectorizer.get_feature_names_out())\n",
        "\n",
        "  return tfidf_feature_names[importance[:n_top]]"
      ],
      "metadata": {
        "id": "n-Ff_II-SYG9"
      },
      "id": "n-Ff_II-SYG9",
      "execution_count": null,
      "outputs": []
    },
    {
      "cell_type": "code",
      "source": [
        "cluster_words_dict = {}\n",
        "#common words in all texts, to remove\n",
        "common_words = ['patients', 'patient', 'covid', 'cov', '19', 'et', 'al', 'sars', 'health', 'used', 'using', 'cell', 'cells', 'participants', 'study', 'data', 'fig', 'figure', '2020', 'pandemic', 'usepackage']\n",
        "title_list = []\n",
        "text_list = []\n",
        "\n",
        "for label in np.unique(labels):\n",
        "  cluster_samples = samp_1000[ samp_1000.labels == label ]\n",
        "  text_in_cluster = df_sample20.iloc[cluster_samples['index'].values].text\n",
        "  #get all texts from each cluster\n",
        "  for t in text_in_cluster:\n",
        "    text_list.append(t)\n",
        "  #get relevant words from the cluster\n",
        "  words = tfidf_words(text_list)\n",
        "\n",
        "  #remove common words\n",
        "  for w in common_words:\n",
        "    if w in words: \n",
        "      index = np.argwhere(words==w)\n",
        "      words = np.delete(words,index)\n",
        "  cluster_words_dict[label] = words\n",
        "  text_list = []\n",
        "\n"
      ],
      "metadata": {
        "id": "iKXRKWA4UNBx"
      },
      "id": "iKXRKWA4UNBx",
      "execution_count": null,
      "outputs": []
    },
    {
      "cell_type": "code",
      "source": [
        "for k in cluster_words_dict.keys():\n",
        "  print('Cluster ',k, 'frequent words: ', cluster_words_dict[k])\n",
        "  print('')"
      ],
      "metadata": {
        "colab": {
          "base_uri": "https://localhost:8080/"
        },
        "id": "RadanA0na5rU",
        "outputId": "147372e9-cafe-41ef-b0bd-c60503caf940"
      },
      "id": "RadanA0na5rU",
      "execution_count": null,
      "outputs": [
        {
          "output_type": "stream",
          "name": "stdout",
          "text": [
            "Cluster  1 frequent words:  ['protein' 'ml' 'infection' 'viral' 'expression' 'samples' 'il' 'virus'\n",
            " 'compounds' 'based' 'analysis' 'binding' 'treatment']\n",
            "\n",
            "Cluster  2 frequent words:  ['model' 'students' 'learning' 'research' 'results' 'social' 'care' 'use'\n",
            " 'studies' 'information' 'number' 'models' 'performance' 'people']\n",
            "\n",
            "Cluster  3 frequent words:  ['der' 'die' 'protein' 'und' 'social' 'different' 'based' 'reported'\n",
            " 'people' 'high' 'specific' 'time' 'work']\n",
            "\n",
            "Cluster  4 frequent words:  ['vaccination' 'vaccine' 'infection' 'reported' 'case' 'cases' 'day'\n",
            " '2021' 'clinical' 'symptoms' 'test' 'thrombosis' 'treatment' 'omicron']\n",
            "\n",
            "Cluster  5 frequent words:  ['care' 'disease' 'medical' 'infection' 'day' 'treatment' 'studies'\n",
            " 'reported' 'mortality' 'risk' 'cases' 'survey' 'clinical' 'group'\n",
            " 'students']\n",
            "\n",
            "Cluster  6 frequent words:  ['studies' 'treatment' 'risk' 'reported' 'group' 'infection' 'disease'\n",
            " 'results' 'clinical' 'table' 'analysis' 'test' 'use']\n",
            "\n",
            "Cluster  7 frequent words:  ['children' 'treatment' 'clinical' 'studies' 'group' 'vaccine' 'response'\n",
            " 'risk' 'analysis' 'reported' 'social']\n",
            "\n",
            "Cluster  8 frequent words:  ['research' 'reported' 'time' 'studies' 'risk' 'care' 'social' 'mental'\n",
            " 'use' 'students' 'clinical' 'food' 'children' 'people' 'services']\n",
            "\n"
          ]
        }
      ]
    },
    {
      "cell_type": "markdown",
      "source": [
        "On high level, we can identify topics of the papers per cluster. As we can see, these are not extremely conclusive and sometimes overlap but can represent the group. \n",
        "\n",
        "\n",
        "*   Cluster 1 topics: *virus and its structure*\n",
        "*   Cluster 2 topics: *Research and studies*\n",
        "*   Cluster 3 topics: *Statistics and measured results*\n",
        "*   Cluster 4 topics: *Vaccine and treatments*\n",
        "*   Cluster 5 and 6 topics: *Risks results and mortality*\n",
        "*   Cluster 7 and 8 topics: *Treatments and studies on children*\n"
      ],
      "metadata": {
        "id": "U0bxhPexThkZ"
      },
      "id": "U0bxhPexThkZ"
    },
    {
      "cell_type": "code",
      "source": [
        "from wordcloud import WordCloud, STOPWORDS\n",
        "\n",
        "plt.figure(figsize=(40, 20)) \n",
        "for label in np.unique(labels):\n",
        "  cluster_samples = samp_1000[ samp_1000.labels == label ]\n",
        "  title_in_cluster = df_sample20.iloc[cluster_samples['index'].values].title\n",
        "  text = \" \".join(title for title in title_in_cluster)\n",
        "  wordcloud = WordCloud(collocations = False, background_color = 'black', stopwords = STOPWORDS).generate(str(text))\n",
        "  plt.subplot(2,4,label)\n",
        "  plt.imshow(wordcloud)\n",
        "  plt.axis(\"off\")\n",
        "  plt.title('Cluster '+ str(label))\n",
        "plt.show()"
      ],
      "metadata": {
        "id": "oPho7PIvM0Jq"
      },
      "id": "oPho7PIvM0Jq",
      "execution_count": null,
      "outputs": []
    },
    {
      "cell_type": "markdown",
      "source": [
        "### Clustering  a sample based on the clustered 1000 samples:"
      ],
      "metadata": {
        "id": "pC3jgp3bylfM"
      },
      "id": "pC3jgp3bylfM"
    },
    {
      "cell_type": "code",
      "source": [
        "samp_1000"
      ],
      "metadata": {
        "colab": {
          "base_uri": "https://localhost:8080/",
          "height": 423
        },
        "id": "TdpnP1Xb0fA-",
        "outputId": "cb105c4f-150a-4fb3-8747-bacbf1d85165"
      },
      "id": "TdpnP1Xb0fA-",
      "execution_count": null,
      "outputs": [
        {
          "output_type": "execute_result",
          "data": {
            "text/plain": [
              "     index                                               text  labels\n",
              "0    12542  Switzerland has experienced two lockdowns so f...       8\n",
              "1     5271  Coronavirus disease 2019 (COVID-19), first ide...       4\n",
              "2    17542  Severe Acute Respiratory Syndrome Coronavirus ...       2\n",
              "3     3877  The Development of chemically defined cell cul...       3\n",
              "4     5434  A high number of cluster infections have been ...       6\n",
              "..     ...                                                ...     ...\n",
              "995   1256  Healthcare delivery is challenging and complex...       6\n",
              "996   9619  A recent report by the World Health Organizati...       8\n",
              "997   4661  In recent years, we have witnessed continuous ...       2\n",
              "998    793  The COVID-19 pandemic reflects a unique, chron...       8\n",
              "999   6675  A global pandemic infectious respiratory disea...       8\n",
              "\n",
              "[1000 rows x 3 columns]"
            ],
            "text/html": [
              "\n",
              "  <div id=\"df-cba04751-e494-4ac8-b1fa-a5301696639b\">\n",
              "    <div class=\"colab-df-container\">\n",
              "      <div>\n",
              "<style scoped>\n",
              "    .dataframe tbody tr th:only-of-type {\n",
              "        vertical-align: middle;\n",
              "    }\n",
              "\n",
              "    .dataframe tbody tr th {\n",
              "        vertical-align: top;\n",
              "    }\n",
              "\n",
              "    .dataframe thead th {\n",
              "        text-align: right;\n",
              "    }\n",
              "</style>\n",
              "<table border=\"1\" class=\"dataframe\">\n",
              "  <thead>\n",
              "    <tr style=\"text-align: right;\">\n",
              "      <th></th>\n",
              "      <th>index</th>\n",
              "      <th>text</th>\n",
              "      <th>labels</th>\n",
              "    </tr>\n",
              "  </thead>\n",
              "  <tbody>\n",
              "    <tr>\n",
              "      <th>0</th>\n",
              "      <td>12542</td>\n",
              "      <td>Switzerland has experienced two lockdowns so f...</td>\n",
              "      <td>8</td>\n",
              "    </tr>\n",
              "    <tr>\n",
              "      <th>1</th>\n",
              "      <td>5271</td>\n",
              "      <td>Coronavirus disease 2019 (COVID-19), first ide...</td>\n",
              "      <td>4</td>\n",
              "    </tr>\n",
              "    <tr>\n",
              "      <th>2</th>\n",
              "      <td>17542</td>\n",
              "      <td>Severe Acute Respiratory Syndrome Coronavirus ...</td>\n",
              "      <td>2</td>\n",
              "    </tr>\n",
              "    <tr>\n",
              "      <th>3</th>\n",
              "      <td>3877</td>\n",
              "      <td>The Development of chemically defined cell cul...</td>\n",
              "      <td>3</td>\n",
              "    </tr>\n",
              "    <tr>\n",
              "      <th>4</th>\n",
              "      <td>5434</td>\n",
              "      <td>A high number of cluster infections have been ...</td>\n",
              "      <td>6</td>\n",
              "    </tr>\n",
              "    <tr>\n",
              "      <th>...</th>\n",
              "      <td>...</td>\n",
              "      <td>...</td>\n",
              "      <td>...</td>\n",
              "    </tr>\n",
              "    <tr>\n",
              "      <th>995</th>\n",
              "      <td>1256</td>\n",
              "      <td>Healthcare delivery is challenging and complex...</td>\n",
              "      <td>6</td>\n",
              "    </tr>\n",
              "    <tr>\n",
              "      <th>996</th>\n",
              "      <td>9619</td>\n",
              "      <td>A recent report by the World Health Organizati...</td>\n",
              "      <td>8</td>\n",
              "    </tr>\n",
              "    <tr>\n",
              "      <th>997</th>\n",
              "      <td>4661</td>\n",
              "      <td>In recent years, we have witnessed continuous ...</td>\n",
              "      <td>2</td>\n",
              "    </tr>\n",
              "    <tr>\n",
              "      <th>998</th>\n",
              "      <td>793</td>\n",
              "      <td>The COVID-19 pandemic reflects a unique, chron...</td>\n",
              "      <td>8</td>\n",
              "    </tr>\n",
              "    <tr>\n",
              "      <th>999</th>\n",
              "      <td>6675</td>\n",
              "      <td>A global pandemic infectious respiratory disea...</td>\n",
              "      <td>8</td>\n",
              "    </tr>\n",
              "  </tbody>\n",
              "</table>\n",
              "<p>1000 rows × 3 columns</p>\n",
              "</div>\n",
              "      <button class=\"colab-df-convert\" onclick=\"convertToInteractive('df-cba04751-e494-4ac8-b1fa-a5301696639b')\"\n",
              "              title=\"Convert this dataframe to an interactive table.\"\n",
              "              style=\"display:none;\">\n",
              "        \n",
              "  <svg xmlns=\"http://www.w3.org/2000/svg\" height=\"24px\"viewBox=\"0 0 24 24\"\n",
              "       width=\"24px\">\n",
              "    <path d=\"M0 0h24v24H0V0z\" fill=\"none\"/>\n",
              "    <path d=\"M18.56 5.44l.94 2.06.94-2.06 2.06-.94-2.06-.94-.94-2.06-.94 2.06-2.06.94zm-11 1L8.5 8.5l.94-2.06 2.06-.94-2.06-.94L8.5 2.5l-.94 2.06-2.06.94zm10 10l.94 2.06.94-2.06 2.06-.94-2.06-.94-.94-2.06-.94 2.06-2.06.94z\"/><path d=\"M17.41 7.96l-1.37-1.37c-.4-.4-.92-.59-1.43-.59-.52 0-1.04.2-1.43.59L10.3 9.45l-7.72 7.72c-.78.78-.78 2.05 0 2.83L4 21.41c.39.39.9.59 1.41.59.51 0 1.02-.2 1.41-.59l7.78-7.78 2.81-2.81c.8-.78.8-2.07 0-2.86zM5.41 20L4 18.59l7.72-7.72 1.47 1.35L5.41 20z\"/>\n",
              "  </svg>\n",
              "      </button>\n",
              "      \n",
              "  <style>\n",
              "    .colab-df-container {\n",
              "      display:flex;\n",
              "      flex-wrap:wrap;\n",
              "      gap: 12px;\n",
              "    }\n",
              "\n",
              "    .colab-df-convert {\n",
              "      background-color: #E8F0FE;\n",
              "      border: none;\n",
              "      border-radius: 50%;\n",
              "      cursor: pointer;\n",
              "      display: none;\n",
              "      fill: #1967D2;\n",
              "      height: 32px;\n",
              "      padding: 0 0 0 0;\n",
              "      width: 32px;\n",
              "    }\n",
              "\n",
              "    .colab-df-convert:hover {\n",
              "      background-color: #E2EBFA;\n",
              "      box-shadow: 0px 1px 2px rgba(60, 64, 67, 0.3), 0px 1px 3px 1px rgba(60, 64, 67, 0.15);\n",
              "      fill: #174EA6;\n",
              "    }\n",
              "\n",
              "    [theme=dark] .colab-df-convert {\n",
              "      background-color: #3B4455;\n",
              "      fill: #D2E3FC;\n",
              "    }\n",
              "\n",
              "    [theme=dark] .colab-df-convert:hover {\n",
              "      background-color: #434B5C;\n",
              "      box-shadow: 0px 1px 3px 1px rgba(0, 0, 0, 0.15);\n",
              "      filter: drop-shadow(0px 1px 2px rgba(0, 0, 0, 0.3));\n",
              "      fill: #FFFFFF;\n",
              "    }\n",
              "  </style>\n",
              "\n",
              "      <script>\n",
              "        const buttonEl =\n",
              "          document.querySelector('#df-cba04751-e494-4ac8-b1fa-a5301696639b button.colab-df-convert');\n",
              "        buttonEl.style.display =\n",
              "          google.colab.kernel.accessAllowed ? 'block' : 'none';\n",
              "\n",
              "        async function convertToInteractive(key) {\n",
              "          const element = document.querySelector('#df-cba04751-e494-4ac8-b1fa-a5301696639b');\n",
              "          const dataTable =\n",
              "            await google.colab.kernel.invokeFunction('convertToInteractive',\n",
              "                                                     [key], {});\n",
              "          if (!dataTable) return;\n",
              "\n",
              "          const docLinkHtml = 'Like what you see? Visit the ' +\n",
              "            '<a target=\"_blank\" href=https://colab.research.google.com/notebooks/data_table.ipynb>data table notebook</a>'\n",
              "            + ' to learn more about interactive tables.';\n",
              "          element.innerHTML = '';\n",
              "          dataTable['output_type'] = 'display_data';\n",
              "          await google.colab.output.renderOutput(dataTable, element);\n",
              "          const docLink = document.createElement('div');\n",
              "          docLink.innerHTML = docLinkHtml;\n",
              "          element.appendChild(docLink);\n",
              "        }\n",
              "      </script>\n",
              "    </div>\n",
              "  </div>\n",
              "  "
            ]
          },
          "metadata": {},
          "execution_count": 18
        }
      ]
    },
    {
      "cell_type": "code",
      "source": [
        "def assign_cluster(train,paper): \n",
        "    tmpdf = train.copy()\n",
        "    tmpdf['Similarity']= tmpdf.text.progress_apply(lambda x: NCD(x,paper.text.iloc[0]))\n",
        "    with warnings.catch_warnings():\n",
        "      warnings.simplefilter('ignore')\n",
        "      mean_table= tmpdf.groupby(['labels'])['Similarity'].mean()\n",
        "      clus_label = mean_table.idxmin()\n",
        "    print(f\"\\n\\nBy Similarity, the Closest Cluster is {clus_label}\")\n",
        "    return mean_table,clus_label #return values of proximity for each of the clusters and the closest cluster "
      ],
      "metadata": {
        "id": "BAhBfvPMykla"
      },
      "id": "BAhBfvPMykla",
      "execution_count": null,
      "outputs": []
    },
    {
      "cell_type": "markdown",
      "source": [
        "### Assign a sample into cluster"
      ],
      "metadata": {
        "id": "t0yMh6v0caNa"
      },
      "id": "t0yMh6v0caNa"
    },
    {
      "cell_type": "code",
      "source": [
        "#get uninspected samples from data\n",
        "untouched =  df[~df.index.isin(samp_1000['index'].values)]\n",
        "paper = untouched.sample(n=1)\n",
        "assert samp_1000.text.isin(paper.text).sum() == 0 #a double check its not really inside the 'training data' \n",
        "print(paper.title.iloc[0])"
      ],
      "metadata": {
        "colab": {
          "base_uri": "https://localhost:8080/"
        },
        "id": "0pn__QFvyt3y",
        "outputId": "36bbaade-8154-4226-d2e2-85fa40f6bc32"
      },
      "id": "0pn__QFvyt3y",
      "execution_count": null,
      "outputs": [
        {
          "output_type": "stream",
          "name": "stdout",
          "text": [
            "Expanded Pharmacy Practice Implementation: Lessons from Remote Practice\n"
          ]
        }
      ]
    },
    {
      "cell_type": "code",
      "source": [
        "res,lab = assign_cluster(samp_1000,paper)\n",
        "res"
      ],
      "metadata": {
        "colab": {
          "base_uri": "https://localhost:8080/"
        },
        "id": "61eBsb94y3Vr",
        "outputId": "12e6f229-662a-4c28-8f80-e10258047270"
      },
      "id": "61eBsb94y3Vr",
      "execution_count": null,
      "outputs": [
        {
          "output_type": "stream",
          "name": "stderr",
          "text": [
            "100%|██████████| 1000/1000 [00:06<00:00, 152.97it/s]"
          ]
        },
        {
          "output_type": "stream",
          "name": "stdout",
          "text": [
            "\n",
            "\n",
            "By Similarity, the Closest Cluster is 8\n"
          ]
        },
        {
          "output_type": "stream",
          "name": "stderr",
          "text": [
            "\n"
          ]
        },
        {
          "output_type": "execute_result",
          "data": {
            "text/plain": [
              "labels\n",
              "1    0.949934\n",
              "2    0.948419\n",
              "3    0.972144\n",
              "4    0.954155\n",
              "5    0.932908\n",
              "6    0.928895\n",
              "7    0.931558\n",
              "8    0.925285\n",
              "Name: Similarity, dtype: float64"
            ]
          },
          "metadata": {},
          "execution_count": 54
        }
      ]
    },
    {
      "cell_type": "markdown",
      "source": [
        "**Clustrer the 20,000 samples**"
      ],
      "metadata": {
        "id": "VgWjLaaucfYZ"
      },
      "id": "VgWjLaaucfYZ"
    },
    {
      "cell_type": "markdown",
      "source": [
        "Only code provided, without execution, as it would take approximately 45 hours to run"
      ],
      "metadata": {
        "id": "i4U-hfN4wKwV"
      },
      "id": "i4U-hfN4wKwV"
    },
    {
      "cell_type": "code",
      "source": [
        "def assign_clusters_full(paper,train): \n",
        "    tmpdf = train.copy()\n",
        "    tmpdf['Similarity']= tmpdf.text.apply(lambda x: NCD(x,paper.text))\n",
        "    with warnings.catch_warnings():\n",
        "      warnings.simplefilter('ignore')\n",
        "      clus_label = tmpdf.groupby(['labels'])['Similarity'].mean().idxmin()\n",
        "    return clus_label"
      ],
      "metadata": {
        "id": "JcNTue22dVQI"
      },
      "id": "JcNTue22dVQI",
      "execution_count": null,
      "outputs": []
    },
    {
      "cell_type": "code",
      "source": [
        "untouched = untouched.drop(['index'],axis=1).reset_index()"
      ],
      "metadata": {
        "id": "8T3UG2oazm4R"
      },
      "id": "8T3UG2oazm4R",
      "execution_count": null,
      "outputs": []
    },
    {
      "cell_type": "code",
      "source": [
        "untouched['cluster'] = untouched.progress_apply(assign_clusters_full,train = samp_1000,axis = 1)"
      ],
      "metadata": {
        "id": "Xm3aIScSedjG"
      },
      "id": "Xm3aIScSedjG",
      "execution_count": null,
      "outputs": []
    }
  ],
  "metadata": {
    "colab": {
      "collapsed_sections": [
        "mKwB6pp6f8yM"
      ],
      "machine_shape": "hm",
      "name": "HM3_ADVML.ipynb",
      "provenance": []
    },
    "kernelspec": {
      "display_name": "Python 3",
      "language": "python",
      "name": "python3"
    },
    "language_info": {
      "codemirror_mode": {
        "name": "ipython",
        "version": 3
      },
      "file_extension": ".py",
      "mimetype": "text/x-python",
      "name": "python",
      "nbconvert_exporter": "python",
      "pygments_lexer": "ipython3",
      "version": "3.7.10"
    }
  },
  "nbformat": 4,
  "nbformat_minor": 5
}